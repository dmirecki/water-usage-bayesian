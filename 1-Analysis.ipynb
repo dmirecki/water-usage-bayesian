{
 "cells": [
  {
   "cell_type": "code",
   "execution_count": 12,
   "metadata": {
    "collapsed": true
   },
   "outputs": [],
   "source": [
    "import pandas as pd\n",
    "import numpy as np\n",
    "import plotly.express as px\n",
    "import pymc3 as pm\n",
    "import arviz as az\n",
    "from einops import rearrange"
   ]
  },
  {
   "cell_type": "markdown",
   "source": [
    "### Data reading and cleaning\n",
    "\n",
    "Data preparation includes period start and end dates calculation, averaging water usage calculation etc."
   ],
   "metadata": {
    "collapsed": false,
    "pycharm": {
     "name": "#%% md\n"
    }
   }
  },
  {
   "cell_type": "code",
   "execution_count": 21,
   "outputs": [],
   "source": [
    "df = pd.read_csv(\n",
    "    'asd.csv',\n",
    "    parse_dates=['date'],\n",
    "    infer_datetime_format=True\n",
    ")[::-1]\n",
    "\n",
    "df = df.rename(columns={\n",
    "    'date': 'period_end_date'\n",
    "})\n",
    "\n",
    "df['period_start_date'] = np.nan\n",
    "df['period_start_date'] = df['period_start_date'].astype('datetime64[ns]')\n",
    "df.iloc[1:, df.columns.get_loc('period_start_date')] = df.iloc[:-1, df.columns.get_loc('period_end_date')]\n",
    "\n",
    "df['water_usage'] = df['water_meter'].diff()\n",
    "df['period_length'] = df['period_end_date'] - df['period_start_date']\n",
    "df['avg_water_usage_per_day'] = df['water_usage'] / df['period_length'].dt.days\n",
    "\n",
    "# Remove first period without known usage\n",
    "df = df.iloc[1:, :] \\\n",
    "    .reset_index(drop=True)\n",
    "\n",
    "# Reorder columns\n",
    "df = df[[\n",
    "    'period_start_date',\n",
    "    'period_end_date',\n",
    "    'period_length',\n",
    "    'water_usage',\n",
    "    'avg_water_usage_per_day'\n",
    "]]"
   ],
   "metadata": {
    "collapsed": false,
    "pycharm": {
     "name": "#%%\n"
    }
   }
  },
  {
   "cell_type": "markdown",
   "source": [
    "Prepared data frame looks as below:"
   ],
   "metadata": {
    "collapsed": false,
    "pycharm": {
     "name": "#%% md\n"
    }
   }
  },
  {
   "cell_type": "code",
   "execution_count": 22,
   "outputs": [
    {
     "data": {
      "text/plain": "  period_start_date period_end_date period_length  water_usage  \\\n0        2021-05-11      2021-05-26       15 days        4.819   \n1        2021-05-26      2021-06-16       21 days        3.096   \n2        2021-06-16      2021-06-23        7 days        3.595   \n3        2021-06-23      2021-06-24        1 days        0.313   \n4        2021-06-24      2021-07-08       14 days        6.455   \n\n   avg_water_usage_per_day  \n0                 0.321267  \n1                 0.147429  \n2                 0.513571  \n3                 0.313000  \n4                 0.461071  ",
      "text/html": "<div>\n<style scoped>\n    .dataframe tbody tr th:only-of-type {\n        vertical-align: middle;\n    }\n\n    .dataframe tbody tr th {\n        vertical-align: top;\n    }\n\n    .dataframe thead th {\n        text-align: right;\n    }\n</style>\n<table border=\"1\" class=\"dataframe\">\n  <thead>\n    <tr style=\"text-align: right;\">\n      <th></th>\n      <th>period_start_date</th>\n      <th>period_end_date</th>\n      <th>period_length</th>\n      <th>water_usage</th>\n      <th>avg_water_usage_per_day</th>\n    </tr>\n  </thead>\n  <tbody>\n    <tr>\n      <th>0</th>\n      <td>2021-05-11</td>\n      <td>2021-05-26</td>\n      <td>15 days</td>\n      <td>4.819</td>\n      <td>0.321267</td>\n    </tr>\n    <tr>\n      <th>1</th>\n      <td>2021-05-26</td>\n      <td>2021-06-16</td>\n      <td>21 days</td>\n      <td>3.096</td>\n      <td>0.147429</td>\n    </tr>\n    <tr>\n      <th>2</th>\n      <td>2021-06-16</td>\n      <td>2021-06-23</td>\n      <td>7 days</td>\n      <td>3.595</td>\n      <td>0.513571</td>\n    </tr>\n    <tr>\n      <th>3</th>\n      <td>2021-06-23</td>\n      <td>2021-06-24</td>\n      <td>1 days</td>\n      <td>0.313</td>\n      <td>0.313000</td>\n    </tr>\n    <tr>\n      <th>4</th>\n      <td>2021-06-24</td>\n      <td>2021-07-08</td>\n      <td>14 days</td>\n      <td>6.455</td>\n      <td>0.461071</td>\n    </tr>\n  </tbody>\n</table>\n</div>"
     },
     "execution_count": 22,
     "metadata": {},
     "output_type": "execute_result"
    }
   ],
   "source": [
    "df.head()"
   ],
   "metadata": {
    "collapsed": false,
    "pycharm": {
     "name": "#%%\n"
    }
   }
  },
  {
   "cell_type": "markdown",
   "source": [
    "It would be helpful to look how the water usage looks in the whole period"
   ],
   "metadata": {
    "collapsed": false,
    "pycharm": {
     "name": "#%% md\n"
    }
   }
  },
  {
   "cell_type": "code",
   "execution_count": 23,
   "outputs": [
    {
     "data": {
      "application/vnd.plotly.v1+json": {
       "config": {
        "plotlyServerURL": "https://plot.ly"
       },
       "data": [
        {
         "hovertemplate": "time=%{x}<br>average water usage per day (m³)=%{y}<extra></extra>",
         "legendgroup": "",
         "line": {
          "color": "#636efa",
          "dash": "solid",
          "shape": "hv"
         },
         "mode": "lines",
         "name": "",
         "orientation": "v",
         "showlegend": false,
         "type": "scatter",
         "x": [
          "2021-05-11T00:00:00",
          "2021-05-26T00:00:00",
          "2021-06-16T00:00:00",
          "2021-06-23T00:00:00",
          "2021-06-24T00:00:00",
          "2021-07-08T00:00:00",
          "2021-07-14T00:00:00",
          "2021-07-16T00:00:00",
          "2021-08-16T00:00:00",
          "2021-08-19T00:00:00",
          "2021-08-20T00:00:00",
          "2021-09-08T00:00:00",
          "2021-09-10T00:00:00",
          "2021-09-11T00:00:00",
          "2021-10-01T00:00:00",
          "2021-10-20T00:00:00",
          "2021-10-25T00:00:00",
          "2021-10-31T00:00:00",
          "2021-11-21T00:00:00",
          "2021-11-25T00:00:00",
          "2021-12-02T00:00:00",
          "2021-12-07T00:00:00",
          "2021-12-10T00:00:00",
          "2021-12-30T00:00:00",
          "2022-01-04T00:00:00",
          "2022-01-09T00:00:00"
         ],
         "xaxis": "x",
         "y": [
          0.3212666666666667,
          0.14742857142857144,
          0.5135714285714285,
          0.31299999999999883,
          0.4610714285714287,
          0.43900000000000006,
          0.34050000000000047,
          0.2809677419354839,
          0.4266666666666647,
          0.5400000000000063,
          0.44505263157894714,
          0.3569999999999993,
          0.5600000000000023,
          0.3125,
          0.30736842105263174,
          0.3239999999999995,
          0.05999999999999991,
          0.21428571428571427,
          0.25,
          0.2999999999999992,
          0.20800000000000124,
          0.21999999999999886,
          0.29849999999999993,
          0.31599999999999967,
          0.3700000000000017,
          0.24210526315789443
         ],
         "yaxis": "y"
        }
       ],
       "layout": {
        "legend": {
         "tracegroupgap": 0
        },
        "template": {
         "data": {
          "bar": [
           {
            "error_x": {
             "color": "#2a3f5f"
            },
            "error_y": {
             "color": "#2a3f5f"
            },
            "marker": {
             "line": {
              "color": "#E5ECF6",
              "width": 0.5
             }
            },
            "type": "bar"
           }
          ],
          "barpolar": [
           {
            "marker": {
             "line": {
              "color": "#E5ECF6",
              "width": 0.5
             }
            },
            "type": "barpolar"
           }
          ],
          "carpet": [
           {
            "aaxis": {
             "endlinecolor": "#2a3f5f",
             "gridcolor": "white",
             "linecolor": "white",
             "minorgridcolor": "white",
             "startlinecolor": "#2a3f5f"
            },
            "baxis": {
             "endlinecolor": "#2a3f5f",
             "gridcolor": "white",
             "linecolor": "white",
             "minorgridcolor": "white",
             "startlinecolor": "#2a3f5f"
            },
            "type": "carpet"
           }
          ],
          "choropleth": [
           {
            "colorbar": {
             "outlinewidth": 0,
             "ticks": ""
            },
            "type": "choropleth"
           }
          ],
          "contour": [
           {
            "colorbar": {
             "outlinewidth": 0,
             "ticks": ""
            },
            "colorscale": [
             [
              0.0,
              "#0d0887"
             ],
             [
              0.1111111111111111,
              "#46039f"
             ],
             [
              0.2222222222222222,
              "#7201a8"
             ],
             [
              0.3333333333333333,
              "#9c179e"
             ],
             [
              0.4444444444444444,
              "#bd3786"
             ],
             [
              0.5555555555555556,
              "#d8576b"
             ],
             [
              0.6666666666666666,
              "#ed7953"
             ],
             [
              0.7777777777777778,
              "#fb9f3a"
             ],
             [
              0.8888888888888888,
              "#fdca26"
             ],
             [
              1.0,
              "#f0f921"
             ]
            ],
            "type": "contour"
           }
          ],
          "contourcarpet": [
           {
            "colorbar": {
             "outlinewidth": 0,
             "ticks": ""
            },
            "type": "contourcarpet"
           }
          ],
          "heatmap": [
           {
            "colorbar": {
             "outlinewidth": 0,
             "ticks": ""
            },
            "colorscale": [
             [
              0.0,
              "#0d0887"
             ],
             [
              0.1111111111111111,
              "#46039f"
             ],
             [
              0.2222222222222222,
              "#7201a8"
             ],
             [
              0.3333333333333333,
              "#9c179e"
             ],
             [
              0.4444444444444444,
              "#bd3786"
             ],
             [
              0.5555555555555556,
              "#d8576b"
             ],
             [
              0.6666666666666666,
              "#ed7953"
             ],
             [
              0.7777777777777778,
              "#fb9f3a"
             ],
             [
              0.8888888888888888,
              "#fdca26"
             ],
             [
              1.0,
              "#f0f921"
             ]
            ],
            "type": "heatmap"
           }
          ],
          "heatmapgl": [
           {
            "colorbar": {
             "outlinewidth": 0,
             "ticks": ""
            },
            "colorscale": [
             [
              0.0,
              "#0d0887"
             ],
             [
              0.1111111111111111,
              "#46039f"
             ],
             [
              0.2222222222222222,
              "#7201a8"
             ],
             [
              0.3333333333333333,
              "#9c179e"
             ],
             [
              0.4444444444444444,
              "#bd3786"
             ],
             [
              0.5555555555555556,
              "#d8576b"
             ],
             [
              0.6666666666666666,
              "#ed7953"
             ],
             [
              0.7777777777777778,
              "#fb9f3a"
             ],
             [
              0.8888888888888888,
              "#fdca26"
             ],
             [
              1.0,
              "#f0f921"
             ]
            ],
            "type": "heatmapgl"
           }
          ],
          "histogram": [
           {
            "marker": {
             "colorbar": {
              "outlinewidth": 0,
              "ticks": ""
             }
            },
            "type": "histogram"
           }
          ],
          "histogram2d": [
           {
            "colorbar": {
             "outlinewidth": 0,
             "ticks": ""
            },
            "colorscale": [
             [
              0.0,
              "#0d0887"
             ],
             [
              0.1111111111111111,
              "#46039f"
             ],
             [
              0.2222222222222222,
              "#7201a8"
             ],
             [
              0.3333333333333333,
              "#9c179e"
             ],
             [
              0.4444444444444444,
              "#bd3786"
             ],
             [
              0.5555555555555556,
              "#d8576b"
             ],
             [
              0.6666666666666666,
              "#ed7953"
             ],
             [
              0.7777777777777778,
              "#fb9f3a"
             ],
             [
              0.8888888888888888,
              "#fdca26"
             ],
             [
              1.0,
              "#f0f921"
             ]
            ],
            "type": "histogram2d"
           }
          ],
          "histogram2dcontour": [
           {
            "colorbar": {
             "outlinewidth": 0,
             "ticks": ""
            },
            "colorscale": [
             [
              0.0,
              "#0d0887"
             ],
             [
              0.1111111111111111,
              "#46039f"
             ],
             [
              0.2222222222222222,
              "#7201a8"
             ],
             [
              0.3333333333333333,
              "#9c179e"
             ],
             [
              0.4444444444444444,
              "#bd3786"
             ],
             [
              0.5555555555555556,
              "#d8576b"
             ],
             [
              0.6666666666666666,
              "#ed7953"
             ],
             [
              0.7777777777777778,
              "#fb9f3a"
             ],
             [
              0.8888888888888888,
              "#fdca26"
             ],
             [
              1.0,
              "#f0f921"
             ]
            ],
            "type": "histogram2dcontour"
           }
          ],
          "mesh3d": [
           {
            "colorbar": {
             "outlinewidth": 0,
             "ticks": ""
            },
            "type": "mesh3d"
           }
          ],
          "parcoords": [
           {
            "line": {
             "colorbar": {
              "outlinewidth": 0,
              "ticks": ""
             }
            },
            "type": "parcoords"
           }
          ],
          "pie": [
           {
            "automargin": true,
            "type": "pie"
           }
          ],
          "scatter": [
           {
            "marker": {
             "colorbar": {
              "outlinewidth": 0,
              "ticks": ""
             }
            },
            "type": "scatter"
           }
          ],
          "scatter3d": [
           {
            "line": {
             "colorbar": {
              "outlinewidth": 0,
              "ticks": ""
             }
            },
            "marker": {
             "colorbar": {
              "outlinewidth": 0,
              "ticks": ""
             }
            },
            "type": "scatter3d"
           }
          ],
          "scattercarpet": [
           {
            "marker": {
             "colorbar": {
              "outlinewidth": 0,
              "ticks": ""
             }
            },
            "type": "scattercarpet"
           }
          ],
          "scattergeo": [
           {
            "marker": {
             "colorbar": {
              "outlinewidth": 0,
              "ticks": ""
             }
            },
            "type": "scattergeo"
           }
          ],
          "scattergl": [
           {
            "marker": {
             "colorbar": {
              "outlinewidth": 0,
              "ticks": ""
             }
            },
            "type": "scattergl"
           }
          ],
          "scattermapbox": [
           {
            "marker": {
             "colorbar": {
              "outlinewidth": 0,
              "ticks": ""
             }
            },
            "type": "scattermapbox"
           }
          ],
          "scatterpolar": [
           {
            "marker": {
             "colorbar": {
              "outlinewidth": 0,
              "ticks": ""
             }
            },
            "type": "scatterpolar"
           }
          ],
          "scatterpolargl": [
           {
            "marker": {
             "colorbar": {
              "outlinewidth": 0,
              "ticks": ""
             }
            },
            "type": "scatterpolargl"
           }
          ],
          "scatterternary": [
           {
            "marker": {
             "colorbar": {
              "outlinewidth": 0,
              "ticks": ""
             }
            },
            "type": "scatterternary"
           }
          ],
          "surface": [
           {
            "colorbar": {
             "outlinewidth": 0,
             "ticks": ""
            },
            "colorscale": [
             [
              0.0,
              "#0d0887"
             ],
             [
              0.1111111111111111,
              "#46039f"
             ],
             [
              0.2222222222222222,
              "#7201a8"
             ],
             [
              0.3333333333333333,
              "#9c179e"
             ],
             [
              0.4444444444444444,
              "#bd3786"
             ],
             [
              0.5555555555555556,
              "#d8576b"
             ],
             [
              0.6666666666666666,
              "#ed7953"
             ],
             [
              0.7777777777777778,
              "#fb9f3a"
             ],
             [
              0.8888888888888888,
              "#fdca26"
             ],
             [
              1.0,
              "#f0f921"
             ]
            ],
            "type": "surface"
           }
          ],
          "table": [
           {
            "cells": {
             "fill": {
              "color": "#EBF0F8"
             },
             "line": {
              "color": "white"
             }
            },
            "header": {
             "fill": {
              "color": "#C8D4E3"
             },
             "line": {
              "color": "white"
             }
            },
            "type": "table"
           }
          ]
         },
         "layout": {
          "annotationdefaults": {
           "arrowcolor": "#2a3f5f",
           "arrowhead": 0,
           "arrowwidth": 1
          },
          "autotypenumbers": "strict",
          "coloraxis": {
           "colorbar": {
            "outlinewidth": 0,
            "ticks": ""
           }
          },
          "colorscale": {
           "diverging": [
            [
             0,
             "#8e0152"
            ],
            [
             0.1,
             "#c51b7d"
            ],
            [
             0.2,
             "#de77ae"
            ],
            [
             0.3,
             "#f1b6da"
            ],
            [
             0.4,
             "#fde0ef"
            ],
            [
             0.5,
             "#f7f7f7"
            ],
            [
             0.6,
             "#e6f5d0"
            ],
            [
             0.7,
             "#b8e186"
            ],
            [
             0.8,
             "#7fbc41"
            ],
            [
             0.9,
             "#4d9221"
            ],
            [
             1,
             "#276419"
            ]
           ],
           "sequential": [
            [
             0.0,
             "#0d0887"
            ],
            [
             0.1111111111111111,
             "#46039f"
            ],
            [
             0.2222222222222222,
             "#7201a8"
            ],
            [
             0.3333333333333333,
             "#9c179e"
            ],
            [
             0.4444444444444444,
             "#bd3786"
            ],
            [
             0.5555555555555556,
             "#d8576b"
            ],
            [
             0.6666666666666666,
             "#ed7953"
            ],
            [
             0.7777777777777778,
             "#fb9f3a"
            ],
            [
             0.8888888888888888,
             "#fdca26"
            ],
            [
             1.0,
             "#f0f921"
            ]
           ],
           "sequentialminus": [
            [
             0.0,
             "#0d0887"
            ],
            [
             0.1111111111111111,
             "#46039f"
            ],
            [
             0.2222222222222222,
             "#7201a8"
            ],
            [
             0.3333333333333333,
             "#9c179e"
            ],
            [
             0.4444444444444444,
             "#bd3786"
            ],
            [
             0.5555555555555556,
             "#d8576b"
            ],
            [
             0.6666666666666666,
             "#ed7953"
            ],
            [
             0.7777777777777778,
             "#fb9f3a"
            ],
            [
             0.8888888888888888,
             "#fdca26"
            ],
            [
             1.0,
             "#f0f921"
            ]
           ]
          },
          "colorway": [
           "#636efa",
           "#EF553B",
           "#00cc96",
           "#ab63fa",
           "#FFA15A",
           "#19d3f3",
           "#FF6692",
           "#B6E880",
           "#FF97FF",
           "#FECB52"
          ],
          "font": {
           "color": "#2a3f5f"
          },
          "geo": {
           "bgcolor": "white",
           "lakecolor": "white",
           "landcolor": "#E5ECF6",
           "showlakes": true,
           "showland": true,
           "subunitcolor": "white"
          },
          "hoverlabel": {
           "align": "left"
          },
          "hovermode": "closest",
          "mapbox": {
           "style": "light"
          },
          "paper_bgcolor": "white",
          "plot_bgcolor": "#E5ECF6",
          "polar": {
           "angularaxis": {
            "gridcolor": "white",
            "linecolor": "white",
            "ticks": ""
           },
           "bgcolor": "#E5ECF6",
           "radialaxis": {
            "gridcolor": "white",
            "linecolor": "white",
            "ticks": ""
           }
          },
          "scene": {
           "xaxis": {
            "backgroundcolor": "#E5ECF6",
            "gridcolor": "white",
            "gridwidth": 2,
            "linecolor": "white",
            "showbackground": true,
            "ticks": "",
            "zerolinecolor": "white"
           },
           "yaxis": {
            "backgroundcolor": "#E5ECF6",
            "gridcolor": "white",
            "gridwidth": 2,
            "linecolor": "white",
            "showbackground": true,
            "ticks": "",
            "zerolinecolor": "white"
           },
           "zaxis": {
            "backgroundcolor": "#E5ECF6",
            "gridcolor": "white",
            "gridwidth": 2,
            "linecolor": "white",
            "showbackground": true,
            "ticks": "",
            "zerolinecolor": "white"
           }
          },
          "shapedefaults": {
           "line": {
            "color": "#2a3f5f"
           }
          },
          "ternary": {
           "aaxis": {
            "gridcolor": "white",
            "linecolor": "white",
            "ticks": ""
           },
           "baxis": {
            "gridcolor": "white",
            "linecolor": "white",
            "ticks": ""
           },
           "bgcolor": "#E5ECF6",
           "caxis": {
            "gridcolor": "white",
            "linecolor": "white",
            "ticks": ""
           }
          },
          "title": {
           "x": 0.05
          },
          "xaxis": {
           "automargin": true,
           "gridcolor": "white",
           "linecolor": "white",
           "ticks": "",
           "title": {
            "standoff": 15
           },
           "zerolinecolor": "white",
           "zerolinewidth": 2
          },
          "yaxis": {
           "automargin": true,
           "gridcolor": "white",
           "linecolor": "white",
           "ticks": "",
           "title": {
            "standoff": 15
           },
           "zerolinecolor": "white",
           "zerolinewidth": 2
          }
         }
        },
        "title": {
         "text": "Water usage during the whole period"
        },
        "xaxis": {
         "anchor": "y",
         "domain": [
          0.0,
          1.0
         ],
         "title": {
          "text": "time"
         }
        },
        "yaxis": {
         "anchor": "x",
         "domain": [
          0.0,
          1.0
         ],
         "title": {
          "text": "average water usage per day (m³)"
         }
        }
       }
      },
      "text/html": "<div>                            <div id=\"e53becb9-759c-4eac-a048-e98f3c254dee\" class=\"plotly-graph-div\" style=\"height:525px; width:100%;\"></div>            <script type=\"text/javascript\">                require([\"plotly\"], function(Plotly) {                    window.PLOTLYENV=window.PLOTLYENV || {};                                    if (document.getElementById(\"e53becb9-759c-4eac-a048-e98f3c254dee\")) {                    Plotly.newPlot(                        \"e53becb9-759c-4eac-a048-e98f3c254dee\",                        [{\"hovertemplate\": \"time=%{x}<br>average water usage per day (m\\u00b3)=%{y}<extra></extra>\", \"legendgroup\": \"\", \"line\": {\"color\": \"#636efa\", \"dash\": \"solid\", \"shape\": \"hv\"}, \"mode\": \"lines\", \"name\": \"\", \"orientation\": \"v\", \"showlegend\": false, \"type\": \"scatter\", \"x\": [\"2021-05-11T00:00:00\", \"2021-05-26T00:00:00\", \"2021-06-16T00:00:00\", \"2021-06-23T00:00:00\", \"2021-06-24T00:00:00\", \"2021-07-08T00:00:00\", \"2021-07-14T00:00:00\", \"2021-07-16T00:00:00\", \"2021-08-16T00:00:00\", \"2021-08-19T00:00:00\", \"2021-08-20T00:00:00\", \"2021-09-08T00:00:00\", \"2021-09-10T00:00:00\", \"2021-09-11T00:00:00\", \"2021-10-01T00:00:00\", \"2021-10-20T00:00:00\", \"2021-10-25T00:00:00\", \"2021-10-31T00:00:00\", \"2021-11-21T00:00:00\", \"2021-11-25T00:00:00\", \"2021-12-02T00:00:00\", \"2021-12-07T00:00:00\", \"2021-12-10T00:00:00\", \"2021-12-30T00:00:00\", \"2022-01-04T00:00:00\", \"2022-01-09T00:00:00\"], \"xaxis\": \"x\", \"y\": [0.3212666666666667, 0.14742857142857144, 0.5135714285714285, 0.31299999999999883, 0.4610714285714287, 0.43900000000000006, 0.34050000000000047, 0.2809677419354839, 0.4266666666666647, 0.5400000000000063, 0.44505263157894714, 0.3569999999999993, 0.5600000000000023, 0.3125, 0.30736842105263174, 0.3239999999999995, 0.05999999999999991, 0.21428571428571427, 0.25, 0.2999999999999992, 0.20800000000000124, 0.21999999999999886, 0.29849999999999993, 0.31599999999999967, 0.3700000000000017, 0.24210526315789443], \"yaxis\": \"y\"}],                        {\"legend\": {\"tracegroupgap\": 0}, \"template\": {\"data\": {\"bar\": [{\"error_x\": {\"color\": \"#2a3f5f\"}, \"error_y\": {\"color\": \"#2a3f5f\"}, \"marker\": {\"line\": {\"color\": \"#E5ECF6\", \"width\": 0.5}}, \"type\": \"bar\"}], \"barpolar\": [{\"marker\": {\"line\": {\"color\": \"#E5ECF6\", \"width\": 0.5}}, \"type\": \"barpolar\"}], \"carpet\": [{\"aaxis\": {\"endlinecolor\": \"#2a3f5f\", \"gridcolor\": \"white\", \"linecolor\": \"white\", \"minorgridcolor\": \"white\", \"startlinecolor\": \"#2a3f5f\"}, \"baxis\": {\"endlinecolor\": \"#2a3f5f\", \"gridcolor\": \"white\", \"linecolor\": \"white\", \"minorgridcolor\": \"white\", \"startlinecolor\": \"#2a3f5f\"}, \"type\": \"carpet\"}], \"choropleth\": [{\"colorbar\": {\"outlinewidth\": 0, \"ticks\": \"\"}, \"type\": \"choropleth\"}], \"contour\": [{\"colorbar\": {\"outlinewidth\": 0, \"ticks\": \"\"}, \"colorscale\": [[0.0, \"#0d0887\"], [0.1111111111111111, \"#46039f\"], [0.2222222222222222, \"#7201a8\"], [0.3333333333333333, \"#9c179e\"], [0.4444444444444444, \"#bd3786\"], [0.5555555555555556, \"#d8576b\"], [0.6666666666666666, \"#ed7953\"], [0.7777777777777778, \"#fb9f3a\"], [0.8888888888888888, \"#fdca26\"], [1.0, \"#f0f921\"]], \"type\": \"contour\"}], \"contourcarpet\": [{\"colorbar\": {\"outlinewidth\": 0, \"ticks\": \"\"}, \"type\": \"contourcarpet\"}], \"heatmap\": [{\"colorbar\": {\"outlinewidth\": 0, \"ticks\": \"\"}, \"colorscale\": [[0.0, \"#0d0887\"], [0.1111111111111111, \"#46039f\"], [0.2222222222222222, \"#7201a8\"], [0.3333333333333333, \"#9c179e\"], [0.4444444444444444, \"#bd3786\"], [0.5555555555555556, \"#d8576b\"], [0.6666666666666666, \"#ed7953\"], [0.7777777777777778, \"#fb9f3a\"], [0.8888888888888888, \"#fdca26\"], [1.0, \"#f0f921\"]], \"type\": \"heatmap\"}], \"heatmapgl\": [{\"colorbar\": {\"outlinewidth\": 0, \"ticks\": \"\"}, \"colorscale\": [[0.0, \"#0d0887\"], [0.1111111111111111, \"#46039f\"], [0.2222222222222222, \"#7201a8\"], [0.3333333333333333, \"#9c179e\"], [0.4444444444444444, \"#bd3786\"], [0.5555555555555556, \"#d8576b\"], [0.6666666666666666, \"#ed7953\"], [0.7777777777777778, \"#fb9f3a\"], [0.8888888888888888, \"#fdca26\"], [1.0, \"#f0f921\"]], \"type\": \"heatmapgl\"}], \"histogram\": [{\"marker\": {\"colorbar\": {\"outlinewidth\": 0, \"ticks\": \"\"}}, \"type\": \"histogram\"}], \"histogram2d\": [{\"colorbar\": {\"outlinewidth\": 0, \"ticks\": \"\"}, \"colorscale\": [[0.0, \"#0d0887\"], [0.1111111111111111, \"#46039f\"], [0.2222222222222222, \"#7201a8\"], [0.3333333333333333, \"#9c179e\"], [0.4444444444444444, \"#bd3786\"], [0.5555555555555556, \"#d8576b\"], [0.6666666666666666, \"#ed7953\"], [0.7777777777777778, \"#fb9f3a\"], [0.8888888888888888, \"#fdca26\"], [1.0, \"#f0f921\"]], \"type\": \"histogram2d\"}], \"histogram2dcontour\": [{\"colorbar\": {\"outlinewidth\": 0, \"ticks\": \"\"}, \"colorscale\": [[0.0, \"#0d0887\"], [0.1111111111111111, \"#46039f\"], [0.2222222222222222, \"#7201a8\"], [0.3333333333333333, \"#9c179e\"], [0.4444444444444444, \"#bd3786\"], [0.5555555555555556, \"#d8576b\"], [0.6666666666666666, \"#ed7953\"], [0.7777777777777778, \"#fb9f3a\"], [0.8888888888888888, \"#fdca26\"], [1.0, \"#f0f921\"]], \"type\": \"histogram2dcontour\"}], \"mesh3d\": [{\"colorbar\": {\"outlinewidth\": 0, \"ticks\": \"\"}, \"type\": \"mesh3d\"}], \"parcoords\": [{\"line\": {\"colorbar\": {\"outlinewidth\": 0, \"ticks\": \"\"}}, \"type\": \"parcoords\"}], \"pie\": [{\"automargin\": true, \"type\": \"pie\"}], \"scatter\": [{\"marker\": {\"colorbar\": {\"outlinewidth\": 0, \"ticks\": \"\"}}, \"type\": \"scatter\"}], \"scatter3d\": [{\"line\": {\"colorbar\": {\"outlinewidth\": 0, \"ticks\": \"\"}}, \"marker\": {\"colorbar\": {\"outlinewidth\": 0, \"ticks\": \"\"}}, \"type\": \"scatter3d\"}], \"scattercarpet\": [{\"marker\": {\"colorbar\": {\"outlinewidth\": 0, \"ticks\": \"\"}}, \"type\": \"scattercarpet\"}], \"scattergeo\": [{\"marker\": {\"colorbar\": {\"outlinewidth\": 0, \"ticks\": \"\"}}, \"type\": \"scattergeo\"}], \"scattergl\": [{\"marker\": {\"colorbar\": {\"outlinewidth\": 0, \"ticks\": \"\"}}, \"type\": \"scattergl\"}], \"scattermapbox\": [{\"marker\": {\"colorbar\": {\"outlinewidth\": 0, \"ticks\": \"\"}}, \"type\": \"scattermapbox\"}], \"scatterpolar\": [{\"marker\": {\"colorbar\": {\"outlinewidth\": 0, \"ticks\": \"\"}}, \"type\": \"scatterpolar\"}], \"scatterpolargl\": [{\"marker\": {\"colorbar\": {\"outlinewidth\": 0, \"ticks\": \"\"}}, \"type\": \"scatterpolargl\"}], \"scatterternary\": [{\"marker\": {\"colorbar\": {\"outlinewidth\": 0, \"ticks\": \"\"}}, \"type\": \"scatterternary\"}], \"surface\": [{\"colorbar\": {\"outlinewidth\": 0, \"ticks\": \"\"}, \"colorscale\": [[0.0, \"#0d0887\"], [0.1111111111111111, \"#46039f\"], [0.2222222222222222, \"#7201a8\"], [0.3333333333333333, \"#9c179e\"], [0.4444444444444444, \"#bd3786\"], [0.5555555555555556, \"#d8576b\"], [0.6666666666666666, \"#ed7953\"], [0.7777777777777778, \"#fb9f3a\"], [0.8888888888888888, \"#fdca26\"], [1.0, \"#f0f921\"]], \"type\": \"surface\"}], \"table\": [{\"cells\": {\"fill\": {\"color\": \"#EBF0F8\"}, \"line\": {\"color\": \"white\"}}, \"header\": {\"fill\": {\"color\": \"#C8D4E3\"}, \"line\": {\"color\": \"white\"}}, \"type\": \"table\"}]}, \"layout\": {\"annotationdefaults\": {\"arrowcolor\": \"#2a3f5f\", \"arrowhead\": 0, \"arrowwidth\": 1}, \"autotypenumbers\": \"strict\", \"coloraxis\": {\"colorbar\": {\"outlinewidth\": 0, \"ticks\": \"\"}}, \"colorscale\": {\"diverging\": [[0, \"#8e0152\"], [0.1, \"#c51b7d\"], [0.2, \"#de77ae\"], [0.3, \"#f1b6da\"], [0.4, \"#fde0ef\"], [0.5, \"#f7f7f7\"], [0.6, \"#e6f5d0\"], [0.7, \"#b8e186\"], [0.8, \"#7fbc41\"], [0.9, \"#4d9221\"], [1, \"#276419\"]], \"sequential\": [[0.0, \"#0d0887\"], [0.1111111111111111, \"#46039f\"], [0.2222222222222222, \"#7201a8\"], [0.3333333333333333, \"#9c179e\"], [0.4444444444444444, \"#bd3786\"], [0.5555555555555556, \"#d8576b\"], [0.6666666666666666, \"#ed7953\"], [0.7777777777777778, \"#fb9f3a\"], [0.8888888888888888, \"#fdca26\"], [1.0, \"#f0f921\"]], \"sequentialminus\": [[0.0, \"#0d0887\"], [0.1111111111111111, \"#46039f\"], [0.2222222222222222, \"#7201a8\"], [0.3333333333333333, \"#9c179e\"], [0.4444444444444444, \"#bd3786\"], [0.5555555555555556, \"#d8576b\"], [0.6666666666666666, \"#ed7953\"], [0.7777777777777778, \"#fb9f3a\"], [0.8888888888888888, \"#fdca26\"], [1.0, \"#f0f921\"]]}, \"colorway\": [\"#636efa\", \"#EF553B\", \"#00cc96\", \"#ab63fa\", \"#FFA15A\", \"#19d3f3\", \"#FF6692\", \"#B6E880\", \"#FF97FF\", \"#FECB52\"], \"font\": {\"color\": \"#2a3f5f\"}, \"geo\": {\"bgcolor\": \"white\", \"lakecolor\": \"white\", \"landcolor\": \"#E5ECF6\", \"showlakes\": true, \"showland\": true, \"subunitcolor\": \"white\"}, \"hoverlabel\": {\"align\": \"left\"}, \"hovermode\": \"closest\", \"mapbox\": {\"style\": \"light\"}, \"paper_bgcolor\": \"white\", \"plot_bgcolor\": \"#E5ECF6\", \"polar\": {\"angularaxis\": {\"gridcolor\": \"white\", \"linecolor\": \"white\", \"ticks\": \"\"}, \"bgcolor\": \"#E5ECF6\", \"radialaxis\": {\"gridcolor\": \"white\", \"linecolor\": \"white\", \"ticks\": \"\"}}, \"scene\": {\"xaxis\": {\"backgroundcolor\": \"#E5ECF6\", \"gridcolor\": \"white\", \"gridwidth\": 2, \"linecolor\": \"white\", \"showbackground\": true, \"ticks\": \"\", \"zerolinecolor\": \"white\"}, \"yaxis\": {\"backgroundcolor\": \"#E5ECF6\", \"gridcolor\": \"white\", \"gridwidth\": 2, \"linecolor\": \"white\", \"showbackground\": true, \"ticks\": \"\", \"zerolinecolor\": \"white\"}, \"zaxis\": {\"backgroundcolor\": \"#E5ECF6\", \"gridcolor\": \"white\", \"gridwidth\": 2, \"linecolor\": \"white\", \"showbackground\": true, \"ticks\": \"\", \"zerolinecolor\": \"white\"}}, \"shapedefaults\": {\"line\": {\"color\": \"#2a3f5f\"}}, \"ternary\": {\"aaxis\": {\"gridcolor\": \"white\", \"linecolor\": \"white\", \"ticks\": \"\"}, \"baxis\": {\"gridcolor\": \"white\", \"linecolor\": \"white\", \"ticks\": \"\"}, \"bgcolor\": \"#E5ECF6\", \"caxis\": {\"gridcolor\": \"white\", \"linecolor\": \"white\", \"ticks\": \"\"}}, \"title\": {\"x\": 0.05}, \"xaxis\": {\"automargin\": true, \"gridcolor\": \"white\", \"linecolor\": \"white\", \"ticks\": \"\", \"title\": {\"standoff\": 15}, \"zerolinecolor\": \"white\", \"zerolinewidth\": 2}, \"yaxis\": {\"automargin\": true, \"gridcolor\": \"white\", \"linecolor\": \"white\", \"ticks\": \"\", \"title\": {\"standoff\": 15}, \"zerolinecolor\": \"white\", \"zerolinewidth\": 2}}}, \"title\": {\"text\": \"Water usage during the whole period\"}, \"xaxis\": {\"anchor\": \"y\", \"domain\": [0.0, 1.0], \"title\": {\"text\": \"time\"}}, \"yaxis\": {\"anchor\": \"x\", \"domain\": [0.0, 1.0], \"title\": {\"text\": \"average water usage per day (m\\u00b3)\"}}},                        {\"responsive\": true}                    ).then(function(){\n                            \nvar gd = document.getElementById('e53becb9-759c-4eac-a048-e98f3c254dee');\nvar x = new MutationObserver(function (mutations, observer) {{\n        var display = window.getComputedStyle(gd).display;\n        if (!display || display === 'none') {{\n            console.log([gd, 'removed!']);\n            Plotly.purge(gd);\n            observer.disconnect();\n        }}\n}});\n\n// Listen for the removal of the full notebook cells\nvar notebookContainer = gd.closest('#notebook-container');\nif (notebookContainer) {{\n    x.observe(notebookContainer, {childList: true});\n}}\n\n// Listen for the clearing of the current output cell\nvar outputEl = gd.closest('.output');\nif (outputEl) {{\n    x.observe(outputEl, {childList: true});\n}}\n\n                        })                };                });            </script>        </div>"
     },
     "metadata": {},
     "output_type": "display_data"
    }
   ],
   "source": [
    "px.line(\n",
    "    df,\n",
    "    x='period_start_date',\n",
    "    y='avg_water_usage_per_day',\n",
    "    line_shape='hv',\n",
    "    title='Water usage during the whole period',\n",
    "    labels={\n",
    "         \"period_start_date\": \"time\",\n",
    "         \"avg_water_usage_per_day\": \"average water usage per day (m³)\",\n",
    "    }\n",
    ")"
   ],
   "metadata": {
    "collapsed": false,
    "pycharm": {
     "name": "#%%\n"
    }
   }
  },
  {
   "cell_type": "code",
   "execution_count": 51,
   "outputs": [],
   "source": [
    "expanded_water_usage_per_day = df \\\n",
    "    .apply(lambda row: [row['avg_water_usage_per_day']] * row['period_length'].days, axis=1) \\\n",
    "    .explode() \\\n",
    "    .astype(np.float)"
   ],
   "metadata": {
    "collapsed": false,
    "pycharm": {
     "name": "#%%\n"
    }
   }
  },
  {
   "cell_type": "code",
   "execution_count": 66,
   "outputs": [
    {
     "data": {
      "application/vnd.plotly.v1+json": {
       "config": {
        "plotlyServerURL": "https://plot.ly"
       },
       "data": [
        {
         "alignmentgroup": "True",
         "bingroup": "x",
         "histnorm": "probability density",
         "hovertemplate": "variable=0<br>value=%{x}<br>probability density=%{y}<extra></extra>",
         "legendgroup": "0",
         "marker": {
          "color": "#636efa"
         },
         "name": "0",
         "offsetgroup": "0",
         "orientation": "v",
         "showlegend": true,
         "type": "histogram",
         "x": [
          0.3212666666666667,
          0.3212666666666667,
          0.3212666666666667,
          0.3212666666666667,
          0.3212666666666667,
          0.3212666666666667,
          0.3212666666666667,
          0.3212666666666667,
          0.3212666666666667,
          0.3212666666666667,
          0.3212666666666667,
          0.3212666666666667,
          0.3212666666666667,
          0.3212666666666667,
          0.3212666666666667,
          0.14742857142857144,
          0.14742857142857144,
          0.14742857142857144,
          0.14742857142857144,
          0.14742857142857144,
          0.14742857142857144,
          0.14742857142857144,
          0.14742857142857144,
          0.14742857142857144,
          0.14742857142857144,
          0.14742857142857144,
          0.14742857142857144,
          0.14742857142857144,
          0.14742857142857144,
          0.14742857142857144,
          0.14742857142857144,
          0.14742857142857144,
          0.14742857142857144,
          0.14742857142857144,
          0.14742857142857144,
          0.14742857142857144,
          0.5135714285714285,
          0.5135714285714285,
          0.5135714285714285,
          0.5135714285714285,
          0.5135714285714285,
          0.5135714285714285,
          0.5135714285714285,
          0.31299999999999883,
          0.4610714285714287,
          0.4610714285714287,
          0.4610714285714287,
          0.4610714285714287,
          0.4610714285714287,
          0.4610714285714287,
          0.4610714285714287,
          0.4610714285714287,
          0.4610714285714287,
          0.4610714285714287,
          0.4610714285714287,
          0.4610714285714287,
          0.4610714285714287,
          0.4610714285714287,
          0.43900000000000006,
          0.43900000000000006,
          0.43900000000000006,
          0.43900000000000006,
          0.43900000000000006,
          0.43900000000000006,
          0.34050000000000047,
          0.34050000000000047,
          0.2809677419354839,
          0.2809677419354839,
          0.2809677419354839,
          0.2809677419354839,
          0.2809677419354839,
          0.2809677419354839,
          0.2809677419354839,
          0.2809677419354839,
          0.2809677419354839,
          0.2809677419354839,
          0.2809677419354839,
          0.2809677419354839,
          0.2809677419354839,
          0.2809677419354839,
          0.2809677419354839,
          0.2809677419354839,
          0.2809677419354839,
          0.2809677419354839,
          0.2809677419354839,
          0.2809677419354839,
          0.2809677419354839,
          0.2809677419354839,
          0.2809677419354839,
          0.2809677419354839,
          0.2809677419354839,
          0.2809677419354839,
          0.2809677419354839,
          0.2809677419354839,
          0.2809677419354839,
          0.2809677419354839,
          0.2809677419354839,
          0.4266666666666647,
          0.4266666666666647,
          0.4266666666666647,
          0.5400000000000063,
          0.44505263157894714,
          0.44505263157894714,
          0.44505263157894714,
          0.44505263157894714,
          0.44505263157894714,
          0.44505263157894714,
          0.44505263157894714,
          0.44505263157894714,
          0.44505263157894714,
          0.44505263157894714,
          0.44505263157894714,
          0.44505263157894714,
          0.44505263157894714,
          0.44505263157894714,
          0.44505263157894714,
          0.44505263157894714,
          0.44505263157894714,
          0.44505263157894714,
          0.44505263157894714,
          0.3569999999999993,
          0.3569999999999993,
          0.5600000000000023,
          0.3125,
          0.3125,
          0.3125,
          0.3125,
          0.3125,
          0.3125,
          0.3125,
          0.3125,
          0.3125,
          0.3125,
          0.3125,
          0.3125,
          0.3125,
          0.3125,
          0.3125,
          0.3125,
          0.3125,
          0.3125,
          0.3125,
          0.3125,
          0.30736842105263174,
          0.30736842105263174,
          0.30736842105263174,
          0.30736842105263174,
          0.30736842105263174,
          0.30736842105263174,
          0.30736842105263174,
          0.30736842105263174,
          0.30736842105263174,
          0.30736842105263174,
          0.30736842105263174,
          0.30736842105263174,
          0.30736842105263174,
          0.30736842105263174,
          0.30736842105263174,
          0.30736842105263174,
          0.30736842105263174,
          0.30736842105263174,
          0.30736842105263174,
          0.3239999999999995,
          0.3239999999999995,
          0.3239999999999995,
          0.3239999999999995,
          0.3239999999999995,
          0.05999999999999991,
          0.05999999999999991,
          0.05999999999999991,
          0.05999999999999991,
          0.05999999999999991,
          0.05999999999999991,
          0.21428571428571427,
          0.21428571428571427,
          0.21428571428571427,
          0.21428571428571427,
          0.21428571428571427,
          0.21428571428571427,
          0.21428571428571427,
          0.21428571428571427,
          0.21428571428571427,
          0.21428571428571427,
          0.21428571428571427,
          0.21428571428571427,
          0.21428571428571427,
          0.21428571428571427,
          0.21428571428571427,
          0.21428571428571427,
          0.21428571428571427,
          0.21428571428571427,
          0.21428571428571427,
          0.21428571428571427,
          0.21428571428571427,
          0.25,
          0.25,
          0.25,
          0.25,
          0.2999999999999992,
          0.2999999999999992,
          0.2999999999999992,
          0.2999999999999992,
          0.2999999999999992,
          0.2999999999999992,
          0.2999999999999992,
          0.20800000000000124,
          0.20800000000000124,
          0.20800000000000124,
          0.20800000000000124,
          0.20800000000000124,
          0.21999999999999886,
          0.21999999999999886,
          0.21999999999999886,
          0.29849999999999993,
          0.29849999999999993,
          0.29849999999999993,
          0.29849999999999993,
          0.29849999999999993,
          0.29849999999999993,
          0.29849999999999993,
          0.29849999999999993,
          0.29849999999999993,
          0.29849999999999993,
          0.29849999999999993,
          0.29849999999999993,
          0.29849999999999993,
          0.29849999999999993,
          0.29849999999999993,
          0.29849999999999993,
          0.29849999999999993,
          0.29849999999999993,
          0.29849999999999993,
          0.29849999999999993,
          0.31599999999999967,
          0.31599999999999967,
          0.31599999999999967,
          0.31599999999999967,
          0.31599999999999967,
          0.3700000000000017,
          0.3700000000000017,
          0.3700000000000017,
          0.3700000000000017,
          0.3700000000000017,
          0.24210526315789443,
          0.24210526315789443,
          0.24210526315789443,
          0.24210526315789443,
          0.24210526315789443,
          0.24210526315789443,
          0.24210526315789443,
          0.24210526315789443,
          0.24210526315789443,
          0.24210526315789443,
          0.24210526315789443,
          0.24210526315789443,
          0.24210526315789443,
          0.24210526315789443,
          0.24210526315789443,
          0.24210526315789443,
          0.24210526315789443,
          0.24210526315789443,
          0.24210526315789443
         ],
         "xaxis": "x",
         "yaxis": "y"
        },
        {
         "mode": "lines",
         "name": "normal",
         "type": "scatter",
         "x": [
          0.05999999999999991,
          0.06505050505050498,
          0.07010101010101005,
          0.07515151515151514,
          0.0802020202020202,
          0.08525252525252527,
          0.09030303030303036,
          0.09535353535353543,
          0.1004040404040405,
          0.10545454545454558,
          0.11050505050505066,
          0.11555555555555572,
          0.1206060606060608,
          0.12565656565656588,
          0.13070707070707094,
          0.13575757575757602,
          0.1408080808080811,
          0.14585858585858616,
          0.15090909090909124,
          0.15595959595959633,
          0.1610101010101014,
          0.16606060606060646,
          0.17111111111111155,
          0.17616161616161663,
          0.18121212121212169,
          0.18626262626262677,
          0.19131313131313185,
          0.19636363636363693,
          0.201414141414142,
          0.20646464646464707,
          0.21151515151515216,
          0.2165656565656572,
          0.2216161616161623,
          0.22666666666666738,
          0.23171717171717243,
          0.23676767676767752,
          0.2418181818181826,
          0.24686868686868765,
          0.2519191919191927,
          0.2569696969696978,
          0.2620202020202029,
          0.26707070707070796,
          0.27212121212121304,
          0.2771717171717181,
          0.28222222222222315,
          0.28727272727272823,
          0.2923232323232333,
          0.2973737373737384,
          0.3024242424242435,
          0.30747474747474857,
          0.3125252525252536,
          0.3175757575757587,
          0.32262626262626376,
          0.32767676767676884,
          0.3327272727272739,
          0.33777777777777895,
          0.34282828282828404,
          0.3478787878787891,
          0.3529292929292942,
          0.3579797979797993,
          0.36303030303030437,
          0.3680808080808094,
          0.3731313131313145,
          0.37818181818181956,
          0.38323232323232465,
          0.38828282828282973,
          0.3933333333333348,
          0.3983838383838399,
          0.4034343434343449,
          0.40848484848485,
          0.4135353535353551,
          0.41858585858586017,
          0.42363636363636525,
          0.42868686868687034,
          0.43373737373737536,
          0.43878787878788045,
          0.44383838383838553,
          0.4488888888888906,
          0.4539393939393957,
          0.4589898989899008,
          0.46404040404040586,
          0.4690909090909109,
          0.474141414141416,
          0.47919191919192106,
          0.48424242424242614,
          0.4892929292929312,
          0.4943434343434363,
          0.49939393939394133,
          0.5044444444444465,
          0.5094949494949516,
          0.5145454545454566,
          0.5195959595959617,
          0.5246464646464668,
          0.5296969696969718,
          0.5347474747474769,
          0.5397979797979819,
          0.544848484848487,
          0.5498989898989921,
          0.5549494949494972,
          0.5600000000000023
         ],
         "y": [
          0.19867830948521686,
          0.22495855890198005,
          0.25404961077172905,
          0.286153125548802,
          0.32147144427062513,
          0.3602054307035209,
          0.4025520647489322,
          0.4487017963932689,
          0.4988356752462704,
          0.5531222768352125,
          0.6117144531964263,
          0.6747459418026504,
          0.7423278733378214,
          0.8145452251173999,
          0.8914532728770923,
          0.9730740990321279,
          1.0593932201553105,
          1.1503564001485396,
          1.2458667182098289,
          1.3457819620596934,
          1.4499124168399744,
          1.5580191185128274,
          1.6698126373772155,
          1.7849524524306886,
          1.9030469707226085,
          2.0236542376030626,
          2.146283373948514,
          2.27039676516805,
          2.3954130142380836,
          2.5207106573996803,
          2.645632626744826,
          2.769491429016776,
          2.8915749948862812,
          3.011153138093992,
          3.127484549536856,
          3.239824237993259,
          3.3474313170910293,
          3.449577027668873,
          3.54555287618046,
          3.634678763517077,
          3.7163109748057357,
          3.789849899544103,
          3.854747352966228,
          3.9105133738295654,
          3.956722380837927,
          3.9930185795578392,
          4.019120523767347,
          4.034824749449671,
          4.040008415801077,
          4.034630905301849,
          4.018734353697197,
          3.992443100215198,
          3.955962068055915,
          3.9095741046576333,
          3.853636330027399,
          3.788575559078156,
          3.7148828800402294,
          3.6331074852506355,
          3.5438498626624515,
          3.4477544660127073,
          3.3455019885619994,
          3.2378013695649153,
          3.1253816641123295,
          3.008983905741758,
          2.8893530873461564,
          2.7672303795951065,
          2.6433456975425242,
          2.5184107156084465,
          2.3931124190048987,
          2.2681072662724224,
          2.1440160232677394,
          2.0214193140646737,
          1.9008539191670433,
          1.7828098365371485,
          1.667728106547615,
          1.5559993883678576,
          1.4479632627620613,
          1.343908225023616,
          1.2440723219758398,
          1.1486443787568072,
          1.0577657545554213,
          0.9715325616073973,
          0.8899982785798703,
          0.8131766879171571,
          0.7410450666964588,
          0.6735475619288223,
          0.6105986838897424,
          0.5520868548087691,
          0.4978779549087375,
          0.44781881317624084,
          0.4017405961779716,
          0.3594620545290812,
          0.3207925930946049,
          0.28553513750108894,
          0.25348877590617114,
          0.2244511610906078,
          0.19822066369138047,
          0.17459827269804248,
          0.1533892441199259,
          0.1344045029522165
         ]
        }
       ],
       "layout": {
        "barmode": "relative",
        "legend": {
         "title": {
          "text": "variable"
         },
         "tracegroupgap": 0
        },
        "margin": {
         "t": 60
        },
        "template": {
         "data": {
          "bar": [
           {
            "error_x": {
             "color": "#2a3f5f"
            },
            "error_y": {
             "color": "#2a3f5f"
            },
            "marker": {
             "line": {
              "color": "#E5ECF6",
              "width": 0.5
             }
            },
            "type": "bar"
           }
          ],
          "barpolar": [
           {
            "marker": {
             "line": {
              "color": "#E5ECF6",
              "width": 0.5
             }
            },
            "type": "barpolar"
           }
          ],
          "carpet": [
           {
            "aaxis": {
             "endlinecolor": "#2a3f5f",
             "gridcolor": "white",
             "linecolor": "white",
             "minorgridcolor": "white",
             "startlinecolor": "#2a3f5f"
            },
            "baxis": {
             "endlinecolor": "#2a3f5f",
             "gridcolor": "white",
             "linecolor": "white",
             "minorgridcolor": "white",
             "startlinecolor": "#2a3f5f"
            },
            "type": "carpet"
           }
          ],
          "choropleth": [
           {
            "colorbar": {
             "outlinewidth": 0,
             "ticks": ""
            },
            "type": "choropleth"
           }
          ],
          "contour": [
           {
            "colorbar": {
             "outlinewidth": 0,
             "ticks": ""
            },
            "colorscale": [
             [
              0.0,
              "#0d0887"
             ],
             [
              0.1111111111111111,
              "#46039f"
             ],
             [
              0.2222222222222222,
              "#7201a8"
             ],
             [
              0.3333333333333333,
              "#9c179e"
             ],
             [
              0.4444444444444444,
              "#bd3786"
             ],
             [
              0.5555555555555556,
              "#d8576b"
             ],
             [
              0.6666666666666666,
              "#ed7953"
             ],
             [
              0.7777777777777778,
              "#fb9f3a"
             ],
             [
              0.8888888888888888,
              "#fdca26"
             ],
             [
              1.0,
              "#f0f921"
             ]
            ],
            "type": "contour"
           }
          ],
          "contourcarpet": [
           {
            "colorbar": {
             "outlinewidth": 0,
             "ticks": ""
            },
            "type": "contourcarpet"
           }
          ],
          "heatmap": [
           {
            "colorbar": {
             "outlinewidth": 0,
             "ticks": ""
            },
            "colorscale": [
             [
              0.0,
              "#0d0887"
             ],
             [
              0.1111111111111111,
              "#46039f"
             ],
             [
              0.2222222222222222,
              "#7201a8"
             ],
             [
              0.3333333333333333,
              "#9c179e"
             ],
             [
              0.4444444444444444,
              "#bd3786"
             ],
             [
              0.5555555555555556,
              "#d8576b"
             ],
             [
              0.6666666666666666,
              "#ed7953"
             ],
             [
              0.7777777777777778,
              "#fb9f3a"
             ],
             [
              0.8888888888888888,
              "#fdca26"
             ],
             [
              1.0,
              "#f0f921"
             ]
            ],
            "type": "heatmap"
           }
          ],
          "heatmapgl": [
           {
            "colorbar": {
             "outlinewidth": 0,
             "ticks": ""
            },
            "colorscale": [
             [
              0.0,
              "#0d0887"
             ],
             [
              0.1111111111111111,
              "#46039f"
             ],
             [
              0.2222222222222222,
              "#7201a8"
             ],
             [
              0.3333333333333333,
              "#9c179e"
             ],
             [
              0.4444444444444444,
              "#bd3786"
             ],
             [
              0.5555555555555556,
              "#d8576b"
             ],
             [
              0.6666666666666666,
              "#ed7953"
             ],
             [
              0.7777777777777778,
              "#fb9f3a"
             ],
             [
              0.8888888888888888,
              "#fdca26"
             ],
             [
              1.0,
              "#f0f921"
             ]
            ],
            "type": "heatmapgl"
           }
          ],
          "histogram": [
           {
            "marker": {
             "colorbar": {
              "outlinewidth": 0,
              "ticks": ""
             }
            },
            "type": "histogram"
           }
          ],
          "histogram2d": [
           {
            "colorbar": {
             "outlinewidth": 0,
             "ticks": ""
            },
            "colorscale": [
             [
              0.0,
              "#0d0887"
             ],
             [
              0.1111111111111111,
              "#46039f"
             ],
             [
              0.2222222222222222,
              "#7201a8"
             ],
             [
              0.3333333333333333,
              "#9c179e"
             ],
             [
              0.4444444444444444,
              "#bd3786"
             ],
             [
              0.5555555555555556,
              "#d8576b"
             ],
             [
              0.6666666666666666,
              "#ed7953"
             ],
             [
              0.7777777777777778,
              "#fb9f3a"
             ],
             [
              0.8888888888888888,
              "#fdca26"
             ],
             [
              1.0,
              "#f0f921"
             ]
            ],
            "type": "histogram2d"
           }
          ],
          "histogram2dcontour": [
           {
            "colorbar": {
             "outlinewidth": 0,
             "ticks": ""
            },
            "colorscale": [
             [
              0.0,
              "#0d0887"
             ],
             [
              0.1111111111111111,
              "#46039f"
             ],
             [
              0.2222222222222222,
              "#7201a8"
             ],
             [
              0.3333333333333333,
              "#9c179e"
             ],
             [
              0.4444444444444444,
              "#bd3786"
             ],
             [
              0.5555555555555556,
              "#d8576b"
             ],
             [
              0.6666666666666666,
              "#ed7953"
             ],
             [
              0.7777777777777778,
              "#fb9f3a"
             ],
             [
              0.8888888888888888,
              "#fdca26"
             ],
             [
              1.0,
              "#f0f921"
             ]
            ],
            "type": "histogram2dcontour"
           }
          ],
          "mesh3d": [
           {
            "colorbar": {
             "outlinewidth": 0,
             "ticks": ""
            },
            "type": "mesh3d"
           }
          ],
          "parcoords": [
           {
            "line": {
             "colorbar": {
              "outlinewidth": 0,
              "ticks": ""
             }
            },
            "type": "parcoords"
           }
          ],
          "pie": [
           {
            "automargin": true,
            "type": "pie"
           }
          ],
          "scatter": [
           {
            "marker": {
             "colorbar": {
              "outlinewidth": 0,
              "ticks": ""
             }
            },
            "type": "scatter"
           }
          ],
          "scatter3d": [
           {
            "line": {
             "colorbar": {
              "outlinewidth": 0,
              "ticks": ""
             }
            },
            "marker": {
             "colorbar": {
              "outlinewidth": 0,
              "ticks": ""
             }
            },
            "type": "scatter3d"
           }
          ],
          "scattercarpet": [
           {
            "marker": {
             "colorbar": {
              "outlinewidth": 0,
              "ticks": ""
             }
            },
            "type": "scattercarpet"
           }
          ],
          "scattergeo": [
           {
            "marker": {
             "colorbar": {
              "outlinewidth": 0,
              "ticks": ""
             }
            },
            "type": "scattergeo"
           }
          ],
          "scattergl": [
           {
            "marker": {
             "colorbar": {
              "outlinewidth": 0,
              "ticks": ""
             }
            },
            "type": "scattergl"
           }
          ],
          "scattermapbox": [
           {
            "marker": {
             "colorbar": {
              "outlinewidth": 0,
              "ticks": ""
             }
            },
            "type": "scattermapbox"
           }
          ],
          "scatterpolar": [
           {
            "marker": {
             "colorbar": {
              "outlinewidth": 0,
              "ticks": ""
             }
            },
            "type": "scatterpolar"
           }
          ],
          "scatterpolargl": [
           {
            "marker": {
             "colorbar": {
              "outlinewidth": 0,
              "ticks": ""
             }
            },
            "type": "scatterpolargl"
           }
          ],
          "scatterternary": [
           {
            "marker": {
             "colorbar": {
              "outlinewidth": 0,
              "ticks": ""
             }
            },
            "type": "scatterternary"
           }
          ],
          "surface": [
           {
            "colorbar": {
             "outlinewidth": 0,
             "ticks": ""
            },
            "colorscale": [
             [
              0.0,
              "#0d0887"
             ],
             [
              0.1111111111111111,
              "#46039f"
             ],
             [
              0.2222222222222222,
              "#7201a8"
             ],
             [
              0.3333333333333333,
              "#9c179e"
             ],
             [
              0.4444444444444444,
              "#bd3786"
             ],
             [
              0.5555555555555556,
              "#d8576b"
             ],
             [
              0.6666666666666666,
              "#ed7953"
             ],
             [
              0.7777777777777778,
              "#fb9f3a"
             ],
             [
              0.8888888888888888,
              "#fdca26"
             ],
             [
              1.0,
              "#f0f921"
             ]
            ],
            "type": "surface"
           }
          ],
          "table": [
           {
            "cells": {
             "fill": {
              "color": "#EBF0F8"
             },
             "line": {
              "color": "white"
             }
            },
            "header": {
             "fill": {
              "color": "#C8D4E3"
             },
             "line": {
              "color": "white"
             }
            },
            "type": "table"
           }
          ]
         },
         "layout": {
          "annotationdefaults": {
           "arrowcolor": "#2a3f5f",
           "arrowhead": 0,
           "arrowwidth": 1
          },
          "autotypenumbers": "strict",
          "coloraxis": {
           "colorbar": {
            "outlinewidth": 0,
            "ticks": ""
           }
          },
          "colorscale": {
           "diverging": [
            [
             0,
             "#8e0152"
            ],
            [
             0.1,
             "#c51b7d"
            ],
            [
             0.2,
             "#de77ae"
            ],
            [
             0.3,
             "#f1b6da"
            ],
            [
             0.4,
             "#fde0ef"
            ],
            [
             0.5,
             "#f7f7f7"
            ],
            [
             0.6,
             "#e6f5d0"
            ],
            [
             0.7,
             "#b8e186"
            ],
            [
             0.8,
             "#7fbc41"
            ],
            [
             0.9,
             "#4d9221"
            ],
            [
             1,
             "#276419"
            ]
           ],
           "sequential": [
            [
             0.0,
             "#0d0887"
            ],
            [
             0.1111111111111111,
             "#46039f"
            ],
            [
             0.2222222222222222,
             "#7201a8"
            ],
            [
             0.3333333333333333,
             "#9c179e"
            ],
            [
             0.4444444444444444,
             "#bd3786"
            ],
            [
             0.5555555555555556,
             "#d8576b"
            ],
            [
             0.6666666666666666,
             "#ed7953"
            ],
            [
             0.7777777777777778,
             "#fb9f3a"
            ],
            [
             0.8888888888888888,
             "#fdca26"
            ],
            [
             1.0,
             "#f0f921"
            ]
           ],
           "sequentialminus": [
            [
             0.0,
             "#0d0887"
            ],
            [
             0.1111111111111111,
             "#46039f"
            ],
            [
             0.2222222222222222,
             "#7201a8"
            ],
            [
             0.3333333333333333,
             "#9c179e"
            ],
            [
             0.4444444444444444,
             "#bd3786"
            ],
            [
             0.5555555555555556,
             "#d8576b"
            ],
            [
             0.6666666666666666,
             "#ed7953"
            ],
            [
             0.7777777777777778,
             "#fb9f3a"
            ],
            [
             0.8888888888888888,
             "#fdca26"
            ],
            [
             1.0,
             "#f0f921"
            ]
           ]
          },
          "colorway": [
           "#636efa",
           "#EF553B",
           "#00cc96",
           "#ab63fa",
           "#FFA15A",
           "#19d3f3",
           "#FF6692",
           "#B6E880",
           "#FF97FF",
           "#FECB52"
          ],
          "font": {
           "color": "#2a3f5f"
          },
          "geo": {
           "bgcolor": "white",
           "lakecolor": "white",
           "landcolor": "#E5ECF6",
           "showlakes": true,
           "showland": true,
           "subunitcolor": "white"
          },
          "hoverlabel": {
           "align": "left"
          },
          "hovermode": "closest",
          "mapbox": {
           "style": "light"
          },
          "paper_bgcolor": "white",
          "plot_bgcolor": "#E5ECF6",
          "polar": {
           "angularaxis": {
            "gridcolor": "white",
            "linecolor": "white",
            "ticks": ""
           },
           "bgcolor": "#E5ECF6",
           "radialaxis": {
            "gridcolor": "white",
            "linecolor": "white",
            "ticks": ""
           }
          },
          "scene": {
           "xaxis": {
            "backgroundcolor": "#E5ECF6",
            "gridcolor": "white",
            "gridwidth": 2,
            "linecolor": "white",
            "showbackground": true,
            "ticks": "",
            "zerolinecolor": "white"
           },
           "yaxis": {
            "backgroundcolor": "#E5ECF6",
            "gridcolor": "white",
            "gridwidth": 2,
            "linecolor": "white",
            "showbackground": true,
            "ticks": "",
            "zerolinecolor": "white"
           },
           "zaxis": {
            "backgroundcolor": "#E5ECF6",
            "gridcolor": "white",
            "gridwidth": 2,
            "linecolor": "white",
            "showbackground": true,
            "ticks": "",
            "zerolinecolor": "white"
           }
          },
          "shapedefaults": {
           "line": {
            "color": "#2a3f5f"
           }
          },
          "ternary": {
           "aaxis": {
            "gridcolor": "white",
            "linecolor": "white",
            "ticks": ""
           },
           "baxis": {
            "gridcolor": "white",
            "linecolor": "white",
            "ticks": ""
           },
           "bgcolor": "#E5ECF6",
           "caxis": {
            "gridcolor": "white",
            "linecolor": "white",
            "ticks": ""
           }
          },
          "title": {
           "x": 0.05
          },
          "xaxis": {
           "automargin": true,
           "gridcolor": "white",
           "linecolor": "white",
           "ticks": "",
           "title": {
            "standoff": 15
           },
           "zerolinecolor": "white",
           "zerolinewidth": 2
          },
          "yaxis": {
           "automargin": true,
           "gridcolor": "white",
           "linecolor": "white",
           "ticks": "",
           "title": {
            "standoff": 15
           },
           "zerolinecolor": "white",
           "zerolinewidth": 2
          }
         }
        },
        "xaxis": {
         "anchor": "y",
         "domain": [
          0.0,
          1.0
         ],
         "title": {
          "text": "value"
         }
        },
        "yaxis": {
         "anchor": "x",
         "domain": [
          0.0,
          1.0
         ],
         "title": {
          "text": "probability density"
         }
        }
       }
      },
      "text/html": "<div>                            <div id=\"f9676248-a8af-4e7a-9351-c5a1d60c9158\" class=\"plotly-graph-div\" style=\"height:525px; width:100%;\"></div>            <script type=\"text/javascript\">                require([\"plotly\"], function(Plotly) {                    window.PLOTLYENV=window.PLOTLYENV || {};                                    if (document.getElementById(\"f9676248-a8af-4e7a-9351-c5a1d60c9158\")) {                    Plotly.newPlot(                        \"f9676248-a8af-4e7a-9351-c5a1d60c9158\",                        [{\"alignmentgroup\": \"True\", \"bingroup\": \"x\", \"histnorm\": \"probability density\", \"hovertemplate\": \"variable=0<br>value=%{x}<br>probability density=%{y}<extra></extra>\", \"legendgroup\": \"0\", \"marker\": {\"color\": \"#636efa\"}, \"name\": \"0\", \"offsetgroup\": \"0\", \"orientation\": \"v\", \"showlegend\": true, \"type\": \"histogram\", \"x\": [0.3212666666666667, 0.3212666666666667, 0.3212666666666667, 0.3212666666666667, 0.3212666666666667, 0.3212666666666667, 0.3212666666666667, 0.3212666666666667, 0.3212666666666667, 0.3212666666666667, 0.3212666666666667, 0.3212666666666667, 0.3212666666666667, 0.3212666666666667, 0.3212666666666667, 0.14742857142857144, 0.14742857142857144, 0.14742857142857144, 0.14742857142857144, 0.14742857142857144, 0.14742857142857144, 0.14742857142857144, 0.14742857142857144, 0.14742857142857144, 0.14742857142857144, 0.14742857142857144, 0.14742857142857144, 0.14742857142857144, 0.14742857142857144, 0.14742857142857144, 0.14742857142857144, 0.14742857142857144, 0.14742857142857144, 0.14742857142857144, 0.14742857142857144, 0.14742857142857144, 0.5135714285714285, 0.5135714285714285, 0.5135714285714285, 0.5135714285714285, 0.5135714285714285, 0.5135714285714285, 0.5135714285714285, 0.31299999999999883, 0.4610714285714287, 0.4610714285714287, 0.4610714285714287, 0.4610714285714287, 0.4610714285714287, 0.4610714285714287, 0.4610714285714287, 0.4610714285714287, 0.4610714285714287, 0.4610714285714287, 0.4610714285714287, 0.4610714285714287, 0.4610714285714287, 0.4610714285714287, 0.43900000000000006, 0.43900000000000006, 0.43900000000000006, 0.43900000000000006, 0.43900000000000006, 0.43900000000000006, 0.34050000000000047, 0.34050000000000047, 0.2809677419354839, 0.2809677419354839, 0.2809677419354839, 0.2809677419354839, 0.2809677419354839, 0.2809677419354839, 0.2809677419354839, 0.2809677419354839, 0.2809677419354839, 0.2809677419354839, 0.2809677419354839, 0.2809677419354839, 0.2809677419354839, 0.2809677419354839, 0.2809677419354839, 0.2809677419354839, 0.2809677419354839, 0.2809677419354839, 0.2809677419354839, 0.2809677419354839, 0.2809677419354839, 0.2809677419354839, 0.2809677419354839, 0.2809677419354839, 0.2809677419354839, 0.2809677419354839, 0.2809677419354839, 0.2809677419354839, 0.2809677419354839, 0.2809677419354839, 0.2809677419354839, 0.4266666666666647, 0.4266666666666647, 0.4266666666666647, 0.5400000000000063, 0.44505263157894714, 0.44505263157894714, 0.44505263157894714, 0.44505263157894714, 0.44505263157894714, 0.44505263157894714, 0.44505263157894714, 0.44505263157894714, 0.44505263157894714, 0.44505263157894714, 0.44505263157894714, 0.44505263157894714, 0.44505263157894714, 0.44505263157894714, 0.44505263157894714, 0.44505263157894714, 0.44505263157894714, 0.44505263157894714, 0.44505263157894714, 0.3569999999999993, 0.3569999999999993, 0.5600000000000023, 0.3125, 0.3125, 0.3125, 0.3125, 0.3125, 0.3125, 0.3125, 0.3125, 0.3125, 0.3125, 0.3125, 0.3125, 0.3125, 0.3125, 0.3125, 0.3125, 0.3125, 0.3125, 0.3125, 0.3125, 0.30736842105263174, 0.30736842105263174, 0.30736842105263174, 0.30736842105263174, 0.30736842105263174, 0.30736842105263174, 0.30736842105263174, 0.30736842105263174, 0.30736842105263174, 0.30736842105263174, 0.30736842105263174, 0.30736842105263174, 0.30736842105263174, 0.30736842105263174, 0.30736842105263174, 0.30736842105263174, 0.30736842105263174, 0.30736842105263174, 0.30736842105263174, 0.3239999999999995, 0.3239999999999995, 0.3239999999999995, 0.3239999999999995, 0.3239999999999995, 0.05999999999999991, 0.05999999999999991, 0.05999999999999991, 0.05999999999999991, 0.05999999999999991, 0.05999999999999991, 0.21428571428571427, 0.21428571428571427, 0.21428571428571427, 0.21428571428571427, 0.21428571428571427, 0.21428571428571427, 0.21428571428571427, 0.21428571428571427, 0.21428571428571427, 0.21428571428571427, 0.21428571428571427, 0.21428571428571427, 0.21428571428571427, 0.21428571428571427, 0.21428571428571427, 0.21428571428571427, 0.21428571428571427, 0.21428571428571427, 0.21428571428571427, 0.21428571428571427, 0.21428571428571427, 0.25, 0.25, 0.25, 0.25, 0.2999999999999992, 0.2999999999999992, 0.2999999999999992, 0.2999999999999992, 0.2999999999999992, 0.2999999999999992, 0.2999999999999992, 0.20800000000000124, 0.20800000000000124, 0.20800000000000124, 0.20800000000000124, 0.20800000000000124, 0.21999999999999886, 0.21999999999999886, 0.21999999999999886, 0.29849999999999993, 0.29849999999999993, 0.29849999999999993, 0.29849999999999993, 0.29849999999999993, 0.29849999999999993, 0.29849999999999993, 0.29849999999999993, 0.29849999999999993, 0.29849999999999993, 0.29849999999999993, 0.29849999999999993, 0.29849999999999993, 0.29849999999999993, 0.29849999999999993, 0.29849999999999993, 0.29849999999999993, 0.29849999999999993, 0.29849999999999993, 0.29849999999999993, 0.31599999999999967, 0.31599999999999967, 0.31599999999999967, 0.31599999999999967, 0.31599999999999967, 0.3700000000000017, 0.3700000000000017, 0.3700000000000017, 0.3700000000000017, 0.3700000000000017, 0.24210526315789443, 0.24210526315789443, 0.24210526315789443, 0.24210526315789443, 0.24210526315789443, 0.24210526315789443, 0.24210526315789443, 0.24210526315789443, 0.24210526315789443, 0.24210526315789443, 0.24210526315789443, 0.24210526315789443, 0.24210526315789443, 0.24210526315789443, 0.24210526315789443, 0.24210526315789443, 0.24210526315789443, 0.24210526315789443, 0.24210526315789443], \"xaxis\": \"x\", \"yaxis\": \"y\"}, {\"mode\": \"lines\", \"name\": \"normal\", \"type\": \"scatter\", \"x\": [0.05999999999999991, 0.06505050505050498, 0.07010101010101005, 0.07515151515151514, 0.0802020202020202, 0.08525252525252527, 0.09030303030303036, 0.09535353535353543, 0.1004040404040405, 0.10545454545454558, 0.11050505050505066, 0.11555555555555572, 0.1206060606060608, 0.12565656565656588, 0.13070707070707094, 0.13575757575757602, 0.1408080808080811, 0.14585858585858616, 0.15090909090909124, 0.15595959595959633, 0.1610101010101014, 0.16606060606060646, 0.17111111111111155, 0.17616161616161663, 0.18121212121212169, 0.18626262626262677, 0.19131313131313185, 0.19636363636363693, 0.201414141414142, 0.20646464646464707, 0.21151515151515216, 0.2165656565656572, 0.2216161616161623, 0.22666666666666738, 0.23171717171717243, 0.23676767676767752, 0.2418181818181826, 0.24686868686868765, 0.2519191919191927, 0.2569696969696978, 0.2620202020202029, 0.26707070707070796, 0.27212121212121304, 0.2771717171717181, 0.28222222222222315, 0.28727272727272823, 0.2923232323232333, 0.2973737373737384, 0.3024242424242435, 0.30747474747474857, 0.3125252525252536, 0.3175757575757587, 0.32262626262626376, 0.32767676767676884, 0.3327272727272739, 0.33777777777777895, 0.34282828282828404, 0.3478787878787891, 0.3529292929292942, 0.3579797979797993, 0.36303030303030437, 0.3680808080808094, 0.3731313131313145, 0.37818181818181956, 0.38323232323232465, 0.38828282828282973, 0.3933333333333348, 0.3983838383838399, 0.4034343434343449, 0.40848484848485, 0.4135353535353551, 0.41858585858586017, 0.42363636363636525, 0.42868686868687034, 0.43373737373737536, 0.43878787878788045, 0.44383838383838553, 0.4488888888888906, 0.4539393939393957, 0.4589898989899008, 0.46404040404040586, 0.4690909090909109, 0.474141414141416, 0.47919191919192106, 0.48424242424242614, 0.4892929292929312, 0.4943434343434363, 0.49939393939394133, 0.5044444444444465, 0.5094949494949516, 0.5145454545454566, 0.5195959595959617, 0.5246464646464668, 0.5296969696969718, 0.5347474747474769, 0.5397979797979819, 0.544848484848487, 0.5498989898989921, 0.5549494949494972, 0.5600000000000023], \"y\": [0.19867830948521686, 0.22495855890198005, 0.25404961077172905, 0.286153125548802, 0.32147144427062513, 0.3602054307035209, 0.4025520647489322, 0.4487017963932689, 0.4988356752462704, 0.5531222768352125, 0.6117144531964263, 0.6747459418026504, 0.7423278733378214, 0.8145452251173999, 0.8914532728770923, 0.9730740990321279, 1.0593932201553105, 1.1503564001485396, 1.2458667182098289, 1.3457819620596934, 1.4499124168399744, 1.5580191185128274, 1.6698126373772155, 1.7849524524306886, 1.9030469707226085, 2.0236542376030626, 2.146283373948514, 2.27039676516805, 2.3954130142380836, 2.5207106573996803, 2.645632626744826, 2.769491429016776, 2.8915749948862812, 3.011153138093992, 3.127484549536856, 3.239824237993259, 3.3474313170910293, 3.449577027668873, 3.54555287618046, 3.634678763517077, 3.7163109748057357, 3.789849899544103, 3.854747352966228, 3.9105133738295654, 3.956722380837927, 3.9930185795578392, 4.019120523767347, 4.034824749449671, 4.040008415801077, 4.034630905301849, 4.018734353697197, 3.992443100215198, 3.955962068055915, 3.9095741046576333, 3.853636330027399, 3.788575559078156, 3.7148828800402294, 3.6331074852506355, 3.5438498626624515, 3.4477544660127073, 3.3455019885619994, 3.2378013695649153, 3.1253816641123295, 3.008983905741758, 2.8893530873461564, 2.7672303795951065, 2.6433456975425242, 2.5184107156084465, 2.3931124190048987, 2.2681072662724224, 2.1440160232677394, 2.0214193140646737, 1.9008539191670433, 1.7828098365371485, 1.667728106547615, 1.5559993883678576, 1.4479632627620613, 1.343908225023616, 1.2440723219758398, 1.1486443787568072, 1.0577657545554213, 0.9715325616073973, 0.8899982785798703, 0.8131766879171571, 0.7410450666964588, 0.6735475619288223, 0.6105986838897424, 0.5520868548087691, 0.4978779549087375, 0.44781881317624084, 0.4017405961779716, 0.3594620545290812, 0.3207925930946049, 0.28553513750108894, 0.25348877590617114, 0.2244511610906078, 0.19822066369138047, 0.17459827269804248, 0.1533892441199259, 0.1344045029522165]}],                        {\"barmode\": \"relative\", \"legend\": {\"title\": {\"text\": \"variable\"}, \"tracegroupgap\": 0}, \"margin\": {\"t\": 60}, \"template\": {\"data\": {\"bar\": [{\"error_x\": {\"color\": \"#2a3f5f\"}, \"error_y\": {\"color\": \"#2a3f5f\"}, \"marker\": {\"line\": {\"color\": \"#E5ECF6\", \"width\": 0.5}}, \"type\": \"bar\"}], \"barpolar\": [{\"marker\": {\"line\": {\"color\": \"#E5ECF6\", \"width\": 0.5}}, \"type\": \"barpolar\"}], \"carpet\": [{\"aaxis\": {\"endlinecolor\": \"#2a3f5f\", \"gridcolor\": \"white\", \"linecolor\": \"white\", \"minorgridcolor\": \"white\", \"startlinecolor\": \"#2a3f5f\"}, \"baxis\": {\"endlinecolor\": \"#2a3f5f\", \"gridcolor\": \"white\", \"linecolor\": \"white\", \"minorgridcolor\": \"white\", \"startlinecolor\": \"#2a3f5f\"}, \"type\": \"carpet\"}], \"choropleth\": [{\"colorbar\": {\"outlinewidth\": 0, \"ticks\": \"\"}, \"type\": \"choropleth\"}], \"contour\": [{\"colorbar\": {\"outlinewidth\": 0, \"ticks\": \"\"}, \"colorscale\": [[0.0, \"#0d0887\"], [0.1111111111111111, \"#46039f\"], [0.2222222222222222, \"#7201a8\"], [0.3333333333333333, \"#9c179e\"], [0.4444444444444444, \"#bd3786\"], [0.5555555555555556, \"#d8576b\"], [0.6666666666666666, \"#ed7953\"], [0.7777777777777778, \"#fb9f3a\"], [0.8888888888888888, \"#fdca26\"], [1.0, \"#f0f921\"]], \"type\": \"contour\"}], \"contourcarpet\": [{\"colorbar\": {\"outlinewidth\": 0, \"ticks\": \"\"}, \"type\": \"contourcarpet\"}], \"heatmap\": [{\"colorbar\": {\"outlinewidth\": 0, \"ticks\": \"\"}, \"colorscale\": [[0.0, \"#0d0887\"], [0.1111111111111111, \"#46039f\"], [0.2222222222222222, \"#7201a8\"], [0.3333333333333333, \"#9c179e\"], [0.4444444444444444, \"#bd3786\"], [0.5555555555555556, \"#d8576b\"], [0.6666666666666666, \"#ed7953\"], [0.7777777777777778, \"#fb9f3a\"], [0.8888888888888888, \"#fdca26\"], [1.0, \"#f0f921\"]], \"type\": \"heatmap\"}], \"heatmapgl\": [{\"colorbar\": {\"outlinewidth\": 0, \"ticks\": \"\"}, \"colorscale\": [[0.0, \"#0d0887\"], [0.1111111111111111, \"#46039f\"], [0.2222222222222222, \"#7201a8\"], [0.3333333333333333, \"#9c179e\"], [0.4444444444444444, \"#bd3786\"], [0.5555555555555556, \"#d8576b\"], [0.6666666666666666, \"#ed7953\"], [0.7777777777777778, \"#fb9f3a\"], [0.8888888888888888, \"#fdca26\"], [1.0, \"#f0f921\"]], \"type\": \"heatmapgl\"}], \"histogram\": [{\"marker\": {\"colorbar\": {\"outlinewidth\": 0, \"ticks\": \"\"}}, \"type\": \"histogram\"}], \"histogram2d\": [{\"colorbar\": {\"outlinewidth\": 0, \"ticks\": \"\"}, \"colorscale\": [[0.0, \"#0d0887\"], [0.1111111111111111, \"#46039f\"], [0.2222222222222222, \"#7201a8\"], [0.3333333333333333, \"#9c179e\"], [0.4444444444444444, \"#bd3786\"], [0.5555555555555556, \"#d8576b\"], [0.6666666666666666, \"#ed7953\"], [0.7777777777777778, \"#fb9f3a\"], [0.8888888888888888, \"#fdca26\"], [1.0, \"#f0f921\"]], \"type\": \"histogram2d\"}], \"histogram2dcontour\": [{\"colorbar\": {\"outlinewidth\": 0, \"ticks\": \"\"}, \"colorscale\": [[0.0, \"#0d0887\"], [0.1111111111111111, \"#46039f\"], [0.2222222222222222, \"#7201a8\"], [0.3333333333333333, \"#9c179e\"], [0.4444444444444444, \"#bd3786\"], [0.5555555555555556, \"#d8576b\"], [0.6666666666666666, \"#ed7953\"], [0.7777777777777778, \"#fb9f3a\"], [0.8888888888888888, \"#fdca26\"], [1.0, \"#f0f921\"]], \"type\": \"histogram2dcontour\"}], \"mesh3d\": [{\"colorbar\": {\"outlinewidth\": 0, \"ticks\": \"\"}, \"type\": \"mesh3d\"}], \"parcoords\": [{\"line\": {\"colorbar\": {\"outlinewidth\": 0, \"ticks\": \"\"}}, \"type\": \"parcoords\"}], \"pie\": [{\"automargin\": true, \"type\": \"pie\"}], \"scatter\": [{\"marker\": {\"colorbar\": {\"outlinewidth\": 0, \"ticks\": \"\"}}, \"type\": \"scatter\"}], \"scatter3d\": [{\"line\": {\"colorbar\": {\"outlinewidth\": 0, \"ticks\": \"\"}}, \"marker\": {\"colorbar\": {\"outlinewidth\": 0, \"ticks\": \"\"}}, \"type\": \"scatter3d\"}], \"scattercarpet\": [{\"marker\": {\"colorbar\": {\"outlinewidth\": 0, \"ticks\": \"\"}}, \"type\": \"scattercarpet\"}], \"scattergeo\": [{\"marker\": {\"colorbar\": {\"outlinewidth\": 0, \"ticks\": \"\"}}, \"type\": \"scattergeo\"}], \"scattergl\": [{\"marker\": {\"colorbar\": {\"outlinewidth\": 0, \"ticks\": \"\"}}, \"type\": \"scattergl\"}], \"scattermapbox\": [{\"marker\": {\"colorbar\": {\"outlinewidth\": 0, \"ticks\": \"\"}}, \"type\": \"scattermapbox\"}], \"scatterpolar\": [{\"marker\": {\"colorbar\": {\"outlinewidth\": 0, \"ticks\": \"\"}}, \"type\": \"scatterpolar\"}], \"scatterpolargl\": [{\"marker\": {\"colorbar\": {\"outlinewidth\": 0, \"ticks\": \"\"}}, \"type\": \"scatterpolargl\"}], \"scatterternary\": [{\"marker\": {\"colorbar\": {\"outlinewidth\": 0, \"ticks\": \"\"}}, \"type\": \"scatterternary\"}], \"surface\": [{\"colorbar\": {\"outlinewidth\": 0, \"ticks\": \"\"}, \"colorscale\": [[0.0, \"#0d0887\"], [0.1111111111111111, \"#46039f\"], [0.2222222222222222, \"#7201a8\"], [0.3333333333333333, \"#9c179e\"], [0.4444444444444444, \"#bd3786\"], [0.5555555555555556, \"#d8576b\"], [0.6666666666666666, \"#ed7953\"], [0.7777777777777778, \"#fb9f3a\"], [0.8888888888888888, \"#fdca26\"], [1.0, \"#f0f921\"]], \"type\": \"surface\"}], \"table\": [{\"cells\": {\"fill\": {\"color\": \"#EBF0F8\"}, \"line\": {\"color\": \"white\"}}, \"header\": {\"fill\": {\"color\": \"#C8D4E3\"}, \"line\": {\"color\": \"white\"}}, \"type\": \"table\"}]}, \"layout\": {\"annotationdefaults\": {\"arrowcolor\": \"#2a3f5f\", \"arrowhead\": 0, \"arrowwidth\": 1}, \"autotypenumbers\": \"strict\", \"coloraxis\": {\"colorbar\": {\"outlinewidth\": 0, \"ticks\": \"\"}}, \"colorscale\": {\"diverging\": [[0, \"#8e0152\"], [0.1, \"#c51b7d\"], [0.2, \"#de77ae\"], [0.3, \"#f1b6da\"], [0.4, \"#fde0ef\"], [0.5, \"#f7f7f7\"], [0.6, \"#e6f5d0\"], [0.7, \"#b8e186\"], [0.8, \"#7fbc41\"], [0.9, \"#4d9221\"], [1, \"#276419\"]], \"sequential\": [[0.0, \"#0d0887\"], [0.1111111111111111, \"#46039f\"], [0.2222222222222222, \"#7201a8\"], [0.3333333333333333, \"#9c179e\"], [0.4444444444444444, \"#bd3786\"], [0.5555555555555556, \"#d8576b\"], [0.6666666666666666, \"#ed7953\"], [0.7777777777777778, \"#fb9f3a\"], [0.8888888888888888, \"#fdca26\"], [1.0, \"#f0f921\"]], \"sequentialminus\": [[0.0, \"#0d0887\"], [0.1111111111111111, \"#46039f\"], [0.2222222222222222, \"#7201a8\"], [0.3333333333333333, \"#9c179e\"], [0.4444444444444444, \"#bd3786\"], [0.5555555555555556, \"#d8576b\"], [0.6666666666666666, \"#ed7953\"], [0.7777777777777778, \"#fb9f3a\"], [0.8888888888888888, \"#fdca26\"], [1.0, \"#f0f921\"]]}, \"colorway\": [\"#636efa\", \"#EF553B\", \"#00cc96\", \"#ab63fa\", \"#FFA15A\", \"#19d3f3\", \"#FF6692\", \"#B6E880\", \"#FF97FF\", \"#FECB52\"], \"font\": {\"color\": \"#2a3f5f\"}, \"geo\": {\"bgcolor\": \"white\", \"lakecolor\": \"white\", \"landcolor\": \"#E5ECF6\", \"showlakes\": true, \"showland\": true, \"subunitcolor\": \"white\"}, \"hoverlabel\": {\"align\": \"left\"}, \"hovermode\": \"closest\", \"mapbox\": {\"style\": \"light\"}, \"paper_bgcolor\": \"white\", \"plot_bgcolor\": \"#E5ECF6\", \"polar\": {\"angularaxis\": {\"gridcolor\": \"white\", \"linecolor\": \"white\", \"ticks\": \"\"}, \"bgcolor\": \"#E5ECF6\", \"radialaxis\": {\"gridcolor\": \"white\", \"linecolor\": \"white\", \"ticks\": \"\"}}, \"scene\": {\"xaxis\": {\"backgroundcolor\": \"#E5ECF6\", \"gridcolor\": \"white\", \"gridwidth\": 2, \"linecolor\": \"white\", \"showbackground\": true, \"ticks\": \"\", \"zerolinecolor\": \"white\"}, \"yaxis\": {\"backgroundcolor\": \"#E5ECF6\", \"gridcolor\": \"white\", \"gridwidth\": 2, \"linecolor\": \"white\", \"showbackground\": true, \"ticks\": \"\", \"zerolinecolor\": \"white\"}, \"zaxis\": {\"backgroundcolor\": \"#E5ECF6\", \"gridcolor\": \"white\", \"gridwidth\": 2, \"linecolor\": \"white\", \"showbackground\": true, \"ticks\": \"\", \"zerolinecolor\": \"white\"}}, \"shapedefaults\": {\"line\": {\"color\": \"#2a3f5f\"}}, \"ternary\": {\"aaxis\": {\"gridcolor\": \"white\", \"linecolor\": \"white\", \"ticks\": \"\"}, \"baxis\": {\"gridcolor\": \"white\", \"linecolor\": \"white\", \"ticks\": \"\"}, \"bgcolor\": \"#E5ECF6\", \"caxis\": {\"gridcolor\": \"white\", \"linecolor\": \"white\", \"ticks\": \"\"}}, \"title\": {\"x\": 0.05}, \"xaxis\": {\"automargin\": true, \"gridcolor\": \"white\", \"linecolor\": \"white\", \"ticks\": \"\", \"title\": {\"standoff\": 15}, \"zerolinecolor\": \"white\", \"zerolinewidth\": 2}, \"yaxis\": {\"automargin\": true, \"gridcolor\": \"white\", \"linecolor\": \"white\", \"ticks\": \"\", \"title\": {\"standoff\": 15}, \"zerolinecolor\": \"white\", \"zerolinewidth\": 2}}}, \"xaxis\": {\"anchor\": \"y\", \"domain\": [0.0, 1.0], \"title\": {\"text\": \"value\"}}, \"yaxis\": {\"anchor\": \"x\", \"domain\": [0.0, 1.0], \"title\": {\"text\": \"probability density\"}}},                        {\"responsive\": true}                    ).then(function(){\n                            \nvar gd = document.getElementById('f9676248-a8af-4e7a-9351-c5a1d60c9158');\nvar x = new MutationObserver(function (mutations, observer) {{\n        var display = window.getComputedStyle(gd).display;\n        if (!display || display === 'none') {{\n            console.log([gd, 'removed!']);\n            Plotly.purge(gd);\n            observer.disconnect();\n        }}\n}});\n\n// Listen for the removal of the full notebook cells\nvar notebookContainer = gd.closest('#notebook-container');\nif (notebookContainer) {{\n    x.observe(notebookContainer, {childList: true});\n}}\n\n// Listen for the clearing of the current output cell\nvar outputEl = gd.closest('.output');\nif (outputEl) {{\n    x.observe(outputEl, {childList: true});\n}}\n\n                        })                };                });            </script>        </div>"
     },
     "metadata": {},
     "output_type": "display_data"
    }
   ],
   "source": [
    "from scipy.stats import norm\n",
    "import plotly.graph_objects as go\n",
    "\n",
    "mu, std = norm.fit(expanded_water_usage_per_day)\n",
    "\n",
    "xmin, xmax = expanded_water_usage_per_day.min(), expanded_water_usage_per_day.max()\n",
    "x = np.linspace(xmin, xmax, 100)\n",
    "p = norm.pdf(x, mu, std)\n",
    "\n",
    "fig = px.histogram(\n",
    "    expanded_water_usage_per_day,\n",
    "    histnorm='probability density',\n",
    ")\n",
    "fig\n",
    "fig.add_traces(go.Scatter(x=x, y=p, mode = 'lines',\n",
    "                          name = 'normal'\n",
    "                         ))"
   ],
   "metadata": {
    "collapsed": false,
    "pycharm": {
     "name": "#%%\n"
    }
   }
  },
  {
   "cell_type": "code",
   "execution_count": 6,
   "outputs": [],
   "source": [
    "with pm.Model() as simple_model:\n",
    "    # Priors\n",
    "    mu = pm.TruncatedNormal(\"mu\", mu=0.3, sd=0.2, lower=0)\n",
    "\n",
    "    # Likelihood\n",
    "    pm.Normal(\"water_usage_per_day\", mu=mu, observed=df['expanded_water_usage_per_day'].explode())"
   ],
   "metadata": {
    "collapsed": false,
    "pycharm": {
     "name": "#%%\n"
    }
   }
  },
  {
   "cell_type": "markdown",
   "source": [
    "### Sampling"
   ],
   "metadata": {
    "collapsed": false,
    "pycharm": {
     "name": "#%% md\n"
    }
   }
  },
  {
   "cell_type": "code",
   "execution_count": 7,
   "outputs": [
    {
     "name": "stderr",
     "output_type": "stream",
     "text": [
      "Auto-assigning NUTS sampler...\n",
      "Initializing NUTS using jitter+adapt_diag...\n",
      "Multiprocess sampling (4 chains in 4 jobs)\n",
      "NUTS: [mu]\n"
     ]
    },
    {
     "data": {
      "text/plain": "<IPython.core.display.HTML object>",
      "text/html": "\n    <div>\n        <style>\n            /* Turns off some styling */\n            progress {\n                /* gets rid of default border in Firefox and Opera. */\n                border: none;\n                /* Needs to be in here for Safari polyfill so background images work as expected. */\n                background-size: auto;\n            }\n            .progress-bar-interrupted, .progress-bar-interrupted::-webkit-progress-bar {\n                background: #F44336;\n            }\n        </style>\n      <progress value='0' class='' max='32000' style='width:300px; height:20px; vertical-align: middle;'></progress>\n      \n    </div>\n    "
     },
     "metadata": {},
     "output_type": "display_data"
    },
    {
     "name": "stderr",
     "output_type": "stream",
     "text": [
      "Sampling 4 chains for 4_000 tune and 4_000 draw iterations (16_000 + 16_000 draws total) took 10 seconds.\n"
     ]
    },
    {
     "data": {
      "text/plain": "<IPython.core.display.HTML object>",
      "text/html": "\n    <div>\n        <style>\n            /* Turns off some styling */\n            progress {\n                /* gets rid of default border in Firefox and Opera. */\n                border: none;\n                /* Needs to be in here for Safari polyfill so background images work as expected. */\n                background-size: auto;\n            }\n            .progress-bar-interrupted, .progress-bar-interrupted::-webkit-progress-bar {\n                background: #F44336;\n            }\n        </style>\n      <progress value='0' class='' max='16000' style='width:300px; height:20px; vertical-align: middle;'></progress>\n      \n    </div>\n    "
     },
     "metadata": {},
     "output_type": "display_data"
    }
   ],
   "source": [
    "with simple_model:\n",
    "    idata = pm.sample(4000, tune=4000, return_inferencedata=True)\n",
    "\n",
    "    posterior_predictive = pm.sample_posterior_predictive(idata)\n",
    "    idata_aux = az.from_pymc3(posterior_predictive=posterior_predictive)\n",
    "    idata.extend(idata_aux)"
   ],
   "metadata": {
    "collapsed": false,
    "pycharm": {
     "name": "#%%\n"
    }
   }
  },
  {
   "cell_type": "code",
   "execution_count": 15,
   "outputs": [
    {
     "data": {
      "text/plain": "<Figure size 864x144 with 2 Axes>",
      "image/png": "[encoded data removed]"
     },
     "metadata": {
      "needs_background": "light"
     },
     "output_type": "display_data"
    }
   ],
   "source": [
    "with simple_model:\n",
    "    az.plot_trace(idata);"
   ],
   "metadata": {
    "collapsed": false,
    "pycharm": {
     "name": "#%%\n"
    }
   }
  },
  {
   "cell_type": "code",
   "execution_count": 98,
   "outputs": [],
   "source": [
    "def predict_usage_for_days(days, idata):\n",
    "    samples = rearrange(idata.posterior['mu'].values, 'chain draw -> (chain draw)')\n",
    "\n",
    "    rows = len(samples) // days\n",
    "    p = samples[:days*rows] \\\n",
    "            .reshape((rows, days)) \\\n",
    "            .sum(axis=1)\n",
    "\n",
    "    az.plot_posterior(p)"
   ],
   "metadata": {
    "collapsed": false,
    "pycharm": {
     "name": "#%%\n"
    }
   }
  },
  {
   "cell_type": "code",
   "execution_count": 9,
   "outputs": [
    {
     "data": {
      "text/plain": "<Figure size 432x288 with 1 Axes>",
      "image/png": "[encoded data removed]"
     },
     "metadata": {
      "needs_background": "light"
     },
     "output_type": "display_data"
    }
   ],
   "source": [
    "predict_usage_for_days(30, idata)"
   ],
   "metadata": {
    "collapsed": false,
    "pycharm": {
     "name": "#%%\n"
    }
   }
  },
  {
   "cell_type": "markdown",
   "source": [
    "### Standard deviation correction\n",
    "\n",
    "The fact is that we do not observe the water usage in each day, but we observe the average water usage within periods with varying lengths!\n",
    "\n",
    "Assuming daily water usage is normally distributed then the observed averaged usage is also normally distributed, but with smaller standard deviation. Formally, if $d_{i}$ is water usage in day number $i$ and\n",
    "$$d_{i} \\sim \\mathcal{N}(\\mu,\\,\\sigma^{2})$$\n",
    "then\n",
    "$$\\overline{d} \\sim \\mathcal{N}(\\mu,\\,\\frac{\\sigma^{2}}{n})$$\n",
    "where\n",
    "$$\\overline{d} = \\frac{1}{n} \\sum_{i=1}^{n} d_{i}\\,.$$\n",
    "\n",
    "Thus, standard deviation of the likelihood should be corrected by dividing it by $\\sqrt{n}$ where $n$ is the length of the period.\n",
    "\n",
    "Model `sd_corrected_model` defined below implements the observation."
   ],
   "metadata": {
    "collapsed": false,
    "pycharm": {
     "name": "#%% md\n"
    }
   }
  },
  {
   "cell_type": "code",
   "execution_count": 182,
   "outputs": [],
   "source": [
    "with pm.Model() as sd_corrected_model:\n",
    "    # Data\n",
    "    period_lengths = pm.Data(\"period_lengths\", df['period_length'].dt.days)\n",
    "    usage = pm.Data(\"usage\", df['avg_water_usage_per_day'])\n",
    "\n",
    "    # Priors\n",
    "    mu = pm.TruncatedNormal(\"mu\", mu=0.3, sd=0.2, lower=0)\n",
    "    sd = pm.Gamma(\"sd\", mu=0.1, sd=0.05)\n",
    "\n",
    "    # Likelihood\n",
    "    pm.Normal(\n",
    "        f\"water_usage_per_day\",\n",
    "        mu=mu,\n",
    "        sd=sd / np.sqrt(period_lengths),\n",
    "        observed=usage\n",
    "    )"
   ],
   "metadata": {
    "collapsed": false,
    "pycharm": {
     "name": "#%%\n"
    }
   }
  },
  {
   "cell_type": "code",
   "execution_count": 183,
   "outputs": [
    {
     "name": "stderr",
     "output_type": "stream",
     "text": [
      "Auto-assigning NUTS sampler...\n",
      "Initializing NUTS using jitter+adapt_diag...\n",
      "Multiprocess sampling (4 chains in 4 jobs)\n",
      "NUTS: [sd, mu]\n"
     ]
    },
    {
     "data": {
      "text/plain": "<IPython.core.display.HTML object>",
      "text/html": "\n    <div>\n        <style>\n            /* Turns off some styling */\n            progress {\n                /* gets rid of default border in Firefox and Opera. */\n                border: none;\n                /* Needs to be in here for Safari polyfill so background images work as expected. */\n                background-size: auto;\n            }\n            .progress-bar-interrupted, .progress-bar-interrupted::-webkit-progress-bar {\n                background: #F44336;\n            }\n        </style>\n      <progress value='0' class='' max='24000' style='width:300px; height:20px; vertical-align: middle;'></progress>\n      \n    </div>\n    "
     },
     "metadata": {},
     "output_type": "display_data"
    },
    {
     "name": "stderr",
     "output_type": "stream",
     "text": [
      "Sampling 4 chains for 4_000 tune and 2_000 draw iterations (16_000 + 8_000 draws total) took 5 seconds.\n"
     ]
    }
   ],
   "source": [
    "with sd_corrected_model:\n",
    "    idata = pm.sample(2000, tune=4000, return_inferencedata=True)"
   ],
   "metadata": {
    "collapsed": false,
    "pycharm": {
     "name": "#%%\n"
    }
   }
  },
  {
   "cell_type": "code",
   "execution_count": 184,
   "outputs": [
    {
     "data": {
      "text/plain": "<Figure size 864x288 with 4 Axes>",
      "image/png": "[encoded data removed]"
     },
     "metadata": {
      "needs_background": "light"
     },
     "output_type": "display_data"
    }
   ],
   "source": [
    "with sd_corrected_model:\n",
    "    az.plot_trace(idata);"
   ],
   "metadata": {
    "collapsed": false,
    "pycharm": {
     "name": "#%%\n"
    }
   }
  },
  {
   "cell_type": "markdown",
   "source": [
    "Estimated `sd` is pretty big, so it shows that the water usage vary a lot from day to day."
   ],
   "metadata": {
    "collapsed": false,
    "pycharm": {
     "name": "#%% md\n"
    }
   }
  },
  {
   "cell_type": "markdown",
   "source": [
    "#### Prediction\n",
    "Let's now predict water usage for next 30 days."
   ],
   "metadata": {
    "collapsed": false,
    "pycharm": {
     "name": "#%% md\n"
    }
   }
  },
  {
   "cell_type": "code",
   "execution_count": 185,
   "outputs": [
    {
     "data": {
      "text/plain": "<IPython.core.display.HTML object>",
      "text/html": "\n    <div>\n        <style>\n            /* Turns off some styling */\n            progress {\n                /* gets rid of default border in Firefox and Opera. */\n                border: none;\n                /* Needs to be in here for Safari polyfill so background images work as expected. */\n                background-size: auto;\n            }\n            .progress-bar-interrupted, .progress-bar-interrupted::-webkit-progress-bar {\n                background: #F44336;\n            }\n        </style>\n      <progress value='0' class='' max='8000' style='width:300px; height:20px; vertical-align: middle;'></progress>\n      \n    </div>\n    "
     },
     "metadata": {},
     "output_type": "display_data"
    },
    {
     "data": {
      "text/plain": "<Figure size 432x288 with 1 Axes>",
      "image/png": "[encoded data removed]"
     },
     "metadata": {
      "needs_background": "light"
     },
     "output_type": "display_data"
    }
   ],
   "source": [
    "with sd_corrected_model:\n",
    "    pm.set_data({'period_lengths': [1], 'usage': []})\n",
    "\n",
    "    posterior_predictive = pm.sample_posterior_predictive(idata, var_names=['water_usage_per_day'])\n",
    "\n",
    "days = 30\n",
    "\n",
    "rows = len(posterior_predictive['water_usage_per_day']) // days\n",
    "samples = posterior_predictive['water_usage_per_day'][:days*rows] \\\n",
    "        .reshape((rows, days)) \\\n",
    "        .sum(axis=1)\n",
    "\n",
    "az.plot_posterior(samples);"
   ],
   "metadata": {
    "collapsed": false,
    "pycharm": {
     "name": "#%%\n"
    }
   }
  },
  {
   "cell_type": "markdown",
   "source": [
    "## Dirichlet model"
   ],
   "metadata": {
    "collapsed": false,
    "pycharm": {
     "name": "#%% md\n"
    }
   }
  },
  {
   "cell_type": "code",
   "execution_count": null,
   "outputs": [],
   "source": [
    "with pm.Model() as mixture_model:\n",
    "    hh = pm.Dirichlet(\"hh\", a=np.array([8, 1, 1]))\n",
    "\n",
    "    mu_normal = pm.TruncatedNormal(\"mu_normal\", mu=0.3, sd=0.2, lower=0)\n",
    "    mu_guests = pm.TruncatedNormal(\"mu_guests\", mu=0.6, sd=0.2, lower=0)\n",
    "    mu_vacation = pm.TruncatedNormal(\"mu_vacation\", mu=0.0, sd=0.2, lower=0)\n",
    "\n",
    "    # obs = pm.Mixture(\"obs\", hh, [pm.Normal.dist(mu=mu_normal), pm.Normal.dist(mu=mu_guests), pm.Normal.dist(mu=mu_vacation)], observed=df['expanded_water_usage_per_day'].explode())\n",
    "\n",
    "    obs = pm.NormalMixture(\n",
    "        \"obs\",\n",
    "        w=hh,\n",
    "        mu=[mu_normal, mu_guests, mu_vacation],\n",
    "        observed=df['expanded_water_usage_per_day'].explode()\n",
    "    )"
   ],
   "metadata": {
    "collapsed": false,
    "pycharm": {
     "name": "#%%\n"
    }
   }
  },
  {
   "cell_type": "code",
   "execution_count": 11,
   "outputs": [
    {
     "name": "stderr",
     "output_type": "stream",
     "text": [
      "Auto-assigning NUTS sampler...\n",
      "Initializing NUTS using jitter+adapt_diag...\n",
      "Multiprocess sampling (4 chains in 4 jobs)\n",
      "NUTS: [mu_vacation, mu_guests, mu_normal, hh]\n"
     ]
    },
    {
     "data": {
      "text/plain": "<IPython.core.display.HTML object>",
      "text/html": "\n    <div>\n        <style>\n            /* Turns off some styling */\n            progress {\n                /* gets rid of default border in Firefox and Opera. */\n                border: none;\n                /* Needs to be in here for Safari polyfill so background images work as expected. */\n                background-size: auto;\n            }\n            .progress-bar-interrupted, .progress-bar-interrupted::-webkit-progress-bar {\n                background: #F44336;\n            }\n        </style>\n      <progress value='0' class='' max='32000' style='width:300px; height:20px; vertical-align: middle;'></progress>\n      \n    </div>\n    "
     },
     "metadata": {},
     "output_type": "display_data"
    },
    {
     "name": "stderr",
     "output_type": "stream",
     "text": [
      "Sampling 4 chains for 4_000 tune and 4_000 draw iterations (16_000 + 16_000 draws total) took 28 seconds.\n",
      "There were 24 divergences after tuning. Increase `target_accept` or reparameterize.\n"
     ]
    },
    {
     "data": {
      "text/plain": "<Figure size 864x576 with 8 Axes>",
      "image/png": "[encoded data removed]"
     },
     "metadata": {
      "needs_background": "light"
     },
     "output_type": "display_data"
    }
   ],
   "source": [
    "with mixture_model:\n",
    "    idata = pm.sample(4000, tune=4000, return_inferencedata=True)\n",
    "    az.plot_trace(idata);"
   ],
   "metadata": {
    "collapsed": false,
    "pycharm": {
     "name": "#%%\n"
    }
   }
  },
  {
   "cell_type": "code",
   "execution_count": 29,
   "outputs": [
    {
     "data": {
      "text/plain": "<IPython.core.display.HTML object>",
      "text/html": "\n    <div>\n        <style>\n            /* Turns off some styling */\n            progress {\n                /* gets rid of default border in Firefox and Opera. */\n                border: none;\n                /* Needs to be in here for Safari polyfill so background images work as expected. */\n                background-size: auto;\n            }\n            .progress-bar-interrupted, .progress-bar-interrupted::-webkit-progress-bar {\n                background: #F44336;\n            }\n        </style>\n      <progress value='0' class='' max='16000' style='width:300px; height:20px; vertical-align: middle;'></progress>\n      \n    </div>\n    "
     },
     "metadata": {},
     "output_type": "display_data"
    }
   ],
   "source": [
    "with mixture_model:\n",
    "    posterior_predictive = pm.sample_posterior_predictive(idata)\n",
    "    idata_aux = az.from_pymc3(posterior_predictive=posterior_predictive)\n",
    "    idata.extend(idata_aux)"
   ],
   "metadata": {
    "collapsed": false,
    "pycharm": {
     "name": "#%%\n"
    }
   }
  },
  {
   "cell_type": "code",
   "execution_count": null,
   "outputs": [],
   "source": [],
   "metadata": {
    "collapsed": false,
    "pycharm": {
     "name": "#%%\n"
    }
   }
  },
  {
   "cell_type": "code",
   "execution_count": null,
   "outputs": [],
   "source": [],
   "metadata": {
    "collapsed": false,
    "pycharm": {
     "name": "#%%\n"
    }
   }
  }
 ],
 "metadata": {
  "kernelspec": {
   "display_name": "Python 3",
   "language": "python",
   "name": "python3"
  },
  "language_info": {
   "codemirror_mode": {
    "name": "ipython",
    "version": 2
   },
   "file_extension": ".py",
   "mimetype": "text/x-python",
   "name": "python",
   "nbconvert_exporter": "python",
   "pygments_lexer": "ipython2",
   "version": "2.7.6"
  }
 },
 "nbformat": 4,
 "nbformat_minor": 0
}